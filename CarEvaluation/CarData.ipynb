{
 "cells": [
  {
   "cell_type": "markdown",
   "id": "21ab5e4d",
   "metadata": {},
   "source": [
    "**Student Name: Sushant Khanal**\n",
    "**Lu Id: L20551749**\n",
    "\n",
    "**Assignment1: Data Science and Big Data Analysis**\n",
    "\n",
    "**\"Car Evaluation Database\"**\n",
    "\n",
    "This database can be used to predict whether a car falls under \"acceptable\", \"unacceptable\", \"good\" or \"very good\" class based on six attributes: buying, maintenance, doors, persons, lug_boot and saftey."
   ]
  },
  {
   "cell_type": "code",
   "execution_count": 1,
   "id": "5b2a19f0",
   "metadata": {},
   "outputs": [],
   "source": [
    "import pandas as pd \n",
    "import numpy as np \n",
    "import math \n",
    "\n",
    "#load cars data set into a dataframe named \"cars\"\n",
    "cars = pd.read_csv('car.data',index_col = False, header=None)\n",
    "\n",
    "#Setting the column names for out data\n",
    "cars.columns = ['buying', 'maint', 'doors', 'persons', 'lug_boot', 'safety', 'evaluation'] "
   ]
  },
  {
   "cell_type": "code",
   "execution_count": 2,
   "id": "1dccebbb",
   "metadata": {},
   "outputs": [
    {
     "name": "stdout",
     "output_type": "stream",
     "text": [
      "<class 'pandas.core.frame.DataFrame'>\n",
      "RangeIndex: 1728 entries, 0 to 1727\n",
      "Data columns (total 7 columns):\n",
      " #   Column      Non-Null Count  Dtype \n",
      "---  ------      --------------  ----- \n",
      " 0   buying      1728 non-null   object\n",
      " 1   maint       1728 non-null   object\n",
      " 2   doors       1728 non-null   object\n",
      " 3   persons     1728 non-null   object\n",
      " 4   lug_boot    1728 non-null   object\n",
      " 5   safety      1728 non-null   object\n",
      " 6   evaluation  1728 non-null   object\n",
      "dtypes: object(7)\n",
      "memory usage: 94.6+ KB\n"
     ]
    }
   ],
   "source": [
    "#looking at the info of our dataframe\n",
    "cars.info()"
   ]
  },
  {
   "cell_type": "markdown",
   "id": "d4bbd7c4",
   "metadata": {},
   "source": [
    "**Attribute Type:**\n",
    "\n",
    "buying: ordinal, \n",
    "\n",
    "maintenance: ordinal, \n",
    "\n",
    "doors: Integer, \n",
    "\n",
    "persons: Integer, \n",
    "\n",
    "lug_boot: ordinal,  \n",
    "\n",
    "saftey: ordinal"
   ]
  },
  {
   "cell_type": "code",
   "execution_count": 3,
   "id": "2b46c600",
   "metadata": {},
   "outputs": [
    {
     "data": {
      "text/plain": [
       "buying        0\n",
       "maint         0\n",
       "doors         0\n",
       "persons       0\n",
       "lug_boot      0\n",
       "safety        0\n",
       "evaluation    0\n",
       "dtype: int64"
      ]
     },
     "execution_count": 3,
     "metadata": {},
     "output_type": "execute_result"
    }
   ],
   "source": [
    "#Let's check if there are any missing values in our dataset \n",
    "cars.isnull().sum()"
   ]
  },
  {
   "cell_type": "code",
   "execution_count": 201,
   "id": "cf07d829",
   "metadata": {},
   "outputs": [
    {
     "data": {
      "text/plain": [
       "array(['vhigh', 'high', 'med', 'low'], dtype=object)"
      ]
     },
     "execution_count": 201,
     "metadata": {},
     "output_type": "execute_result"
    }
   ],
   "source": [
    "#looking for unique values in buying column\n",
    "cars['buying'].unique()"
   ]
  },
  {
   "cell_type": "code",
   "execution_count": 202,
   "id": "3c9cf7c3",
   "metadata": {},
   "outputs": [
    {
     "data": {
      "text/plain": [
       "array(['vhigh', 'high', 'med', 'low'], dtype=object)"
      ]
     },
     "execution_count": 202,
     "metadata": {},
     "output_type": "execute_result"
    }
   ],
   "source": [
    "#looking for unique values in maint column\n",
    "cars['maint'].unique()"
   ]
  },
  {
   "cell_type": "code",
   "execution_count": 203,
   "id": "4cf7f593",
   "metadata": {},
   "outputs": [
    {
     "data": {
      "text/plain": [
       "array(['2', '3', '4', '5more'], dtype=object)"
      ]
     },
     "execution_count": 203,
     "metadata": {},
     "output_type": "execute_result"
    }
   ],
   "source": [
    "#looking for unique values in doors column\n",
    "cars['doors'].unique()"
   ]
  },
  {
   "cell_type": "code",
   "execution_count": 204,
   "id": "5bfe0702",
   "metadata": {},
   "outputs": [
    {
     "data": {
      "text/plain": [
       "array(['2', '4', 'more'], dtype=object)"
      ]
     },
     "execution_count": 204,
     "metadata": {},
     "output_type": "execute_result"
    }
   ],
   "source": [
    "#looking for unique values in persons column\n",
    "cars['persons'].unique()"
   ]
  },
  {
   "cell_type": "code",
   "execution_count": 205,
   "id": "6656f803",
   "metadata": {},
   "outputs": [
    {
     "data": {
      "text/plain": [
       "array(['small', 'med', 'big'], dtype=object)"
      ]
     },
     "execution_count": 205,
     "metadata": {},
     "output_type": "execute_result"
    }
   ],
   "source": [
    "#looking for unique values in lug_boot column\n",
    "cars['lug_boot'].unique()"
   ]
  },
  {
   "cell_type": "code",
   "execution_count": 206,
   "id": "b6978f9d",
   "metadata": {},
   "outputs": [
    {
     "data": {
      "text/plain": [
       "array(['low', 'med', 'high'], dtype=object)"
      ]
     },
     "execution_count": 206,
     "metadata": {},
     "output_type": "execute_result"
    }
   ],
   "source": [
    "#looking for unique values in safety column\n",
    "cars['safety'].unique()"
   ]
  },
  {
   "cell_type": "code",
   "execution_count": 4,
   "id": "fa6ed019",
   "metadata": {},
   "outputs": [
    {
     "data": {
      "image/png": "[encoded data removed]",
      "text/plain": [
       "<Figure size 432x288 with 1 Axes>"
      ]
     },
     "metadata": {
      "needs_background": "light"
     },
     "output_type": "display_data"
    }
   ],
   "source": [
    "#Looking at the class distribution of the dataframe\n",
    "cars.describe()\n",
    "cars.evaluation.value_counts().plot(kind='bar', title='Proportion');"
   ]
  },
  {
   "cell_type": "markdown",
   "id": "07ba5f2f",
   "metadata": {},
   "source": [
    "**We can see that out data is Imbalanced. \n",
    "If we use this data our prediction will be heavily \n",
    "biased towards unacc data type\n",
    "We have to balance our data**"
   ]
  },
  {
   "cell_type": "code",
   "execution_count": 7,
   "id": "9cfb8e1f",
   "metadata": {},
   "outputs": [
    {
     "data": {
      "text/plain": [
       "1210"
      ]
     },
     "execution_count": 7,
     "metadata": {},
     "output_type": "execute_result"
    }
   ],
   "source": [
    "class_count = cars.evaluation.value_counts()\n",
    "max_class = max(class_count)\n",
    "max_class"
   ]
  },
  {
   "cell_type": "code",
   "execution_count": 8,
   "id": "3649d40b",
   "metadata": {},
   "outputs": [
    {
     "name": "stdout",
     "output_type": "stream",
     "text": [
      "<class 'pandas.core.frame.DataFrame'>\n",
      "Int64Index: 4840 entries, 638 to 1725\n",
      "Data columns (total 7 columns):\n",
      " #   Column      Non-Null Count  Dtype \n",
      "---  ------      --------------  ----- \n",
      " 0   buying      4840 non-null   object\n",
      " 1   maint       4840 non-null   object\n",
      " 2   doors       4840 non-null   object\n",
      " 3   persons     4840 non-null   object\n",
      " 4   lug_boot    4840 non-null   object\n",
      " 5   safety      4840 non-null   object\n",
      " 6   evaluation  4840 non-null   object\n",
      "dtypes: object(7)\n",
      "memory usage: 302.5+ KB\n"
     ]
    }
   ],
   "source": [
    "#Balancing the Data\n",
    "\n",
    "#seperate the data based on class\n",
    "cars_class_0 = cars[cars['evaluation'] == \"acc\"]\n",
    "cars_class_1 = cars[cars['evaluation'] == \"good\"]\n",
    "cars_class_2 = cars[cars['evaluation'] == \"unacc\"]\n",
    "cars_class_3 = cars[cars['evaluation'] == \"vgood\"]\n",
    "\n",
    "# Oversampling\n",
    "cars_class_0_over = cars_class_0.sample(max_class,replace = True)\n",
    "cars_class_1_over = cars_class_1.sample(max_class,replace = True)\n",
    "cars_class_3_over = cars_class_3.sample(max_class,replace = True)\n",
    "\n",
    "#not using maximum class\n",
    "cars_os = pd.concat([cars_class_0_over, cars_class_1_over, cars_class_3_over, cars_class_2], axis = 0)\n",
    "cars_os.info()"
   ]
  },
  {
   "cell_type": "code",
   "execution_count": 9,
   "id": "2ea8ac69",
   "metadata": {},
   "outputs": [
    {
     "data": {
      "text/plain": [
       "acc      1210\n",
       "good     1210\n",
       "unacc    1210\n",
       "vgood    1210\n",
       "Name: evaluation, dtype: int64"
      ]
     },
     "execution_count": 9,
     "metadata": {},
     "output_type": "execute_result"
    },
    {
     "data": {
      "image/png": "[encoded data removed]",
      "text/plain": [
       "<Figure size 432x288 with 1 Axes>"
      ]
     },
     "metadata": {
      "needs_background": "light"
     },
     "output_type": "display_data"
    }
   ],
   "source": [
    "#We can see that the sample is now balanced\n",
    "cars_os.evaluation.value_counts().plot(kind='bar', title='Proportion');\n",
    "cars_os['evaluation'].value_counts().sort_index()"
   ]
  },
  {
   "cell_type": "code",
   "execution_count": 10,
   "id": "61186118",
   "metadata": {},
   "outputs": [
    {
     "data": {
      "text/plain": [
       "532"
      ]
     },
     "execution_count": 10,
     "metadata": {},
     "output_type": "execute_result"
    }
   ],
   "source": [
    "#Since the data set is large we take 11 percent random samples\n",
    "\n",
    "samplingPercent = 11\n",
    "sampleLength = (11/100) * len(cars_os)\n",
    "sampleLength = math.floor(sampleLength)\n",
    "cars_rd = cars_os.sample(sampleLength)\n",
    "\n",
    "len(cars_rd)"
   ]
  },
  {
   "cell_type": "markdown",
   "id": "79883e35",
   "metadata": {},
   "source": [
    "** Data Maps **\n",
    "\n",
    "**We use map1 to replace data in columns \"buying\" and \"maint\"\n",
    "map_1 = {'vhigh': 4, 'high': 3, 'med': 2, 'low:': 1}**\n",
    "\n",
    "**We use map2 to replace data in column \"lug_boot\" \n",
    "map_2 = {'small': 1, 'med': 2, 'big': 3}**\n",
    "\n",
    "**We use map3 to replace data in column \"saftey\"\n",
    "map_3 = {'low': 1, 'med': 2, 'high': 3}**\n",
    "\n",
    "**Also, we replace \"5more\" with 5 and \"more\" with 5 in columns \"doors\" and \"persons\" respectively**"
   ]
  },
  {
   "cell_type": "code",
   "execution_count": 11,
   "id": "879a0fe3",
   "metadata": {},
   "outputs": [
    {
     "data": {
      "text/html": [
       "<div>\n",
       "<style scoped>\n",
       "    .dataframe tbody tr th:only-of-type {\n",
       "        vertical-align: middle;\n",
       "    }\n",
       "\n",
       "    .dataframe tbody tr th {\n",
       "        vertical-align: top;\n",
       "    }\n",
       "\n",
       "    .dataframe thead th {\n",
       "        text-align: right;\n",
       "    }\n",
       "</style>\n",
       "<table border=\"1\" class=\"dataframe\">\n",
       "  <thead>\n",
       "    <tr style=\"text-align: right;\">\n",
       "      <th></th>\n",
       "      <th>buying</th>\n",
       "      <th>maint</th>\n",
       "      <th>doors</th>\n",
       "      <th>persons</th>\n",
       "      <th>lug_boot</th>\n",
       "      <th>safety</th>\n",
       "      <th>evaluation</th>\n",
       "    </tr>\n",
       "  </thead>\n",
       "  <tbody>\n",
       "    <tr>\n",
       "      <th>1472</th>\n",
       "      <td>1</td>\n",
       "      <td>3</td>\n",
       "      <td>4</td>\n",
       "      <td>4</td>\n",
       "      <td>2</td>\n",
       "      <td>3</td>\n",
       "      <td>vgood</td>\n",
       "    </tr>\n",
       "    <tr>\n",
       "      <th>193</th>\n",
       "      <td>4</td>\n",
       "      <td>3</td>\n",
       "      <td>5</td>\n",
       "      <td>2</td>\n",
       "      <td>2</td>\n",
       "      <td>2</td>\n",
       "      <td>unacc</td>\n",
       "    </tr>\n",
       "    <tr>\n",
       "      <th>755</th>\n",
       "      <td>3</td>\n",
       "      <td>2</td>\n",
       "      <td>5</td>\n",
       "      <td>5</td>\n",
       "      <td>3</td>\n",
       "      <td>3</td>\n",
       "      <td>acc</td>\n",
       "    </tr>\n",
       "    <tr>\n",
       "      <th>397</th>\n",
       "      <td>4</td>\n",
       "      <td>1</td>\n",
       "      <td>4</td>\n",
       "      <td>5</td>\n",
       "      <td>1</td>\n",
       "      <td>2</td>\n",
       "      <td>unacc</td>\n",
       "    </tr>\n",
       "    <tr>\n",
       "      <th>1052</th>\n",
       "      <td>2</td>\n",
       "      <td>3</td>\n",
       "      <td>4</td>\n",
       "      <td>5</td>\n",
       "      <td>3</td>\n",
       "      <td>3</td>\n",
       "      <td>acc</td>\n",
       "    </tr>\n",
       "    <tr>\n",
       "      <th>...</th>\n",
       "      <td>...</td>\n",
       "      <td>...</td>\n",
       "      <td>...</td>\n",
       "      <td>...</td>\n",
       "      <td>...</td>\n",
       "      <td>...</td>\n",
       "      <td>...</td>\n",
       "    </tr>\n",
       "    <tr>\n",
       "      <th>1268</th>\n",
       "      <td>2</td>\n",
       "      <td>1</td>\n",
       "      <td>4</td>\n",
       "      <td>5</td>\n",
       "      <td>3</td>\n",
       "      <td>3</td>\n",
       "      <td>vgood</td>\n",
       "    </tr>\n",
       "    <tr>\n",
       "      <th>1267</th>\n",
       "      <td>2</td>\n",
       "      <td>1</td>\n",
       "      <td>4</td>\n",
       "      <td>5</td>\n",
       "      <td>3</td>\n",
       "      <td>2</td>\n",
       "      <td>good</td>\n",
       "    </tr>\n",
       "    <tr>\n",
       "      <th>1723</th>\n",
       "      <td>1</td>\n",
       "      <td>1</td>\n",
       "      <td>5</td>\n",
       "      <td>5</td>\n",
       "      <td>2</td>\n",
       "      <td>2</td>\n",
       "      <td>good</td>\n",
       "    </tr>\n",
       "    <tr>\n",
       "      <th>1472</th>\n",
       "      <td>1</td>\n",
       "      <td>3</td>\n",
       "      <td>4</td>\n",
       "      <td>4</td>\n",
       "      <td>2</td>\n",
       "      <td>3</td>\n",
       "      <td>vgood</td>\n",
       "    </tr>\n",
       "    <tr>\n",
       "      <th>1232</th>\n",
       "      <td>2</td>\n",
       "      <td>1</td>\n",
       "      <td>3</td>\n",
       "      <td>4</td>\n",
       "      <td>3</td>\n",
       "      <td>3</td>\n",
       "      <td>vgood</td>\n",
       "    </tr>\n",
       "  </tbody>\n",
       "</table>\n",
       "<p>532 rows × 7 columns</p>\n",
       "</div>"
      ],
      "text/plain": [
       "      buying  maint doors persons  lug_boot  safety evaluation\n",
       "1472       1      3     4       4         2       3      vgood\n",
       "193        4      3     5       2         2       2      unacc\n",
       "755        3      2     5       5         3       3        acc\n",
       "397        4      1     4       5         1       2      unacc\n",
       "1052       2      3     4       5         3       3        acc\n",
       "...      ...    ...   ...     ...       ...     ...        ...\n",
       "1268       2      1     4       5         3       3      vgood\n",
       "1267       2      1     4       5         3       2       good\n",
       "1723       1      1     5       5         2       2       good\n",
       "1472       1      3     4       4         2       3      vgood\n",
       "1232       2      1     3       4         3       3      vgood\n",
       "\n",
       "[532 rows x 7 columns]"
      ]
     },
     "execution_count": 11,
     "metadata": {},
     "output_type": "execute_result"
    }
   ],
   "source": [
    "# Data Cleaning\n",
    "cars_rd.doors = cars_rd.doors.replace({\"5more\": 5}) \n",
    "cars_rd.persons = cars_rd.persons.replace({\"more\": 5})\n",
    "cars_rd.head()\n",
    "\n",
    "cars_rd.buying.replace(('vhigh', 'high', 'med', 'low'), (4, 3, 2, 1), inplace = True)\n",
    "cars_rd.maint.replace(('vhigh', 'high', 'med', 'low'), (4, 3, 2, 1), inplace = True)\n",
    "\n",
    "cars_rd.lug_boot.replace(('small','med','big'),(1, 2, 3), inplace=True)\n",
    "cars_rd.safety.replace(('low','med','high'), (1, 2, 3), inplace=True)\n",
    "\n",
    "cars_rd"
   ]
  },
  {
   "cell_type": "code",
   "execution_count": 253,
   "id": "99e84c90",
   "metadata": {},
   "outputs": [
    {
     "name": "stdout",
     "output_type": "stream",
     "text": [
      "<class 'pandas.core.frame.DataFrame'>\n",
      "Int64Index: 532 entries, 1717 to 1712\n",
      "Data columns (total 7 columns):\n",
      " #   Column      Non-Null Count  Dtype \n",
      "---  ------      --------------  ----- \n",
      " 0   buying      532 non-null    object\n",
      " 1   maint       532 non-null    object\n",
      " 2   doors       532 non-null    object\n",
      " 3   persons     532 non-null    object\n",
      " 4   lug_boot    532 non-null    object\n",
      " 5   safety      532 non-null    object\n",
      " 6   evaluation  532 non-null    object\n",
      "dtypes: object(7)\n",
      "memory usage: 33.2+ KB\n"
     ]
    },
    {
     "data": {
      "text/plain": [
       "532"
      ]
     },
     "execution_count": 253,
     "metadata": {},
     "output_type": "execute_result"
    }
   ],
   "source": [
    "#checking the edited data frame\n",
    "\n",
    "cars_rd.info()\n",
    "len(cars_rd)"
   ]
  },
  {
   "cell_type": "markdown",
   "id": "5be86b89",
   "metadata": {},
   "source": [
    "Now that our data frame is clean and balanced, we calculate distance and similarity for \n",
    "each attribute based on the attribute type\n",
    "\n",
    "#for ordinal attributes, #similarity = 1 - (|p-q| / (n-1))\n",
    "\n",
    "#for RATIO ATTRIBUTE\n",
    "dist = |p-q|; similarity = 1/(1+dist)"
   ]
  },
  {
   "cell_type": "code",
   "execution_count": 12,
   "id": "e856ed66",
   "metadata": {},
   "outputs": [
    {
     "data": {
      "text/plain": [
       "array([[0., 0., 0., ..., 0., 0., 0.],\n",
       "       [0., 0., 0., ..., 0., 0., 0.],\n",
       "       [0., 0., 0., ..., 0., 0., 0.],\n",
       "       ...,\n",
       "       [0., 0., 0., ..., 0., 0., 0.],\n",
       "       [0., 0., 0., ..., 0., 0., 0.],\n",
       "       [0., 0., 0., ..., 0., 0., 0.]])"
      ]
     },
     "execution_count": 12,
     "metadata": {},
     "output_type": "execute_result"
    }
   ],
   "source": [
    "#Initializing Similarity matrix for each attribute\n",
    "\n",
    "array_buying = np.zeros((len(cars_rd),len(cars_rd)))\n",
    "array_maint = np.zeros((len(cars_rd),len(cars_rd)))\n",
    "array_doors = np.zeros((len(cars_rd),len(cars_rd)))\n",
    "array_persons = np.zeros((len(cars_rd),len(cars_rd)))\n",
    "array_lugboot = np.zeros((len(cars_rd),len(cars_rd)))\n",
    "array_safety = np.zeros((len(cars_rd),len(cars_rd)))\n",
    "\n",
    "array_safety"
   ]
  },
  {
   "cell_type": "code",
   "execution_count": 13,
   "id": "fa982e74",
   "metadata": {},
   "outputs": [
    {
     "name": "stdout",
     "output_type": "stream",
     "text": [
      "[[1.         0.         0.33333333 ... 1.         1.         0.66666667]\n",
      " [0.         1.         0.66666667 ... 0.         0.         0.33333333]\n",
      " [0.33333333 0.66666667 1.         ... 0.33333333 0.33333333 0.66666667]\n",
      " ...\n",
      " [1.         0.         0.33333333 ... 1.         1.         0.66666667]\n",
      " [1.         0.         0.33333333 ... 1.         1.         0.66666667]\n",
      " [0.66666667 0.33333333 0.66666667 ... 0.66666667 0.66666667 1.        ]]\n"
     ]
    }
   ],
   "source": [
    "#ordinal attribute\n",
    "#similarity = 1 - (|p-q| / (n-1))\n",
    "#Filling the initialised similarity matrix for attribute \"buying\"\n",
    "\n",
    "buying_list = cars_rd['buying'].tolist()\n",
    "length = len(buying_list)\n",
    "for i in range(0, length):\n",
    "    for j in range (i, length):\n",
    "        array_buying[i,j] = 1 - ((abs (buying_list[i] - buying_list[j]))/(4-1))\n",
    "        array_buying[j,i] = 1 - ((abs (buying_list[j] - buying_list[i]))/(4-1))\n",
    "\n",
    "print(array_buying)"
   ]
  },
  {
   "cell_type": "code",
   "execution_count": 14,
   "id": "cfed883e",
   "metadata": {},
   "outputs": [
    {
     "name": "stdout",
     "output_type": "stream",
     "text": [
      "[[1.         1.         0.66666667 ... 0.33333333 1.         0.33333333]\n",
      " [1.         1.         0.66666667 ... 0.33333333 1.         0.33333333]\n",
      " [0.66666667 0.66666667 1.         ... 0.66666667 0.66666667 0.66666667]\n",
      " ...\n",
      " [0.33333333 0.33333333 0.66666667 ... 1.         0.33333333 1.        ]\n",
      " [1.         1.         0.66666667 ... 0.33333333 1.         0.33333333]\n",
      " [0.33333333 0.33333333 0.66666667 ... 1.         0.33333333 1.        ]]\n"
     ]
    }
   ],
   "source": [
    "#ordinal attribute\n",
    "#similarity = 1 - (|p-q| / (n-1))\n",
    "#Filling the initialised similarity matrix for attribute \"maint\"\n",
    "\n",
    "maint_list = cars_rd['maint'].tolist()\n",
    "length = len(maint_list)\n",
    "for i in range(0, length):\n",
    "    for j in range (i, length):\n",
    "        array_maint[i,j] = 1 - ((abs (maint_list[i] - maint_list[j]))/(4-1))\n",
    "        array_maint[j,i] = 1 - ((abs (maint_list[i] - maint_list[j]))/(4-1))\n",
    "\n",
    "print(array_maint)"
   ]
  },
  {
   "cell_type": "code",
   "execution_count": 15,
   "id": "9d457866",
   "metadata": {},
   "outputs": [
    {
     "name": "stdout",
     "output_type": "stream",
     "text": [
      "[[1.         0.5        0.5        ... 0.5        1.         0.5       ]\n",
      " [0.5        1.         1.         ... 1.         0.5        0.33333333]\n",
      " [0.5        1.         1.         ... 1.         0.5        0.33333333]\n",
      " ...\n",
      " [0.5        1.         1.         ... 1.         0.5        0.33333333]\n",
      " [1.         0.5        0.5        ... 0.5        1.         0.5       ]\n",
      " [0.5        0.33333333 0.33333333 ... 0.33333333 0.5        1.        ]]\n"
     ]
    }
   ],
   "source": [
    "#RATIO ATTRIBUTE\n",
    "#dist = |p-q|; similarity = 1/(1+dist)\n",
    "#Filling the initialised similarity matrix for attribute \"doors\"\n",
    "\n",
    "doors_list = cars_rd['doors'].tolist()\n",
    "length = len(doors_list)\n",
    "for i in range(0, length):\n",
    "    for j in range (i, length):\n",
    "        array_doors[i,j] = 1 / (1 + (abs (int(doors_list[i]) - int(doors_list[j]))))\n",
    "        array_doors[j, i] = 1 / (1 + (abs (int(doors_list[i]) - int(doors_list[j]))))\n",
    "\n",
    "print(array_doors)"
   ]
  },
  {
   "cell_type": "code",
   "execution_count": 16,
   "id": "4a977dff",
   "metadata": {},
   "outputs": [
    {
     "name": "stdout",
     "output_type": "stream",
     "text": [
      "[[1.         0.33333333 0.5        ... 0.5        1.         1.        ]\n",
      " [0.33333333 1.         0.25       ... 0.25       0.33333333 0.33333333]\n",
      " [0.5        0.25       1.         ... 1.         0.5        0.5       ]\n",
      " ...\n",
      " [0.5        0.25       1.         ... 1.         0.5        0.5       ]\n",
      " [1.         0.33333333 0.5        ... 0.5        1.         1.        ]\n",
      " [1.         0.33333333 0.5        ... 0.5        1.         1.        ]]\n"
     ]
    }
   ],
   "source": [
    "#for RATIO ATTRIBUTE\n",
    "# dist = |p-q|; similarity = 1/(1+dist)\n",
    "#Filling the initialised similarity matrix for attribute \"persons\"\n",
    "\n",
    "persons_list = cars_rd['persons'].tolist()\n",
    "length = len(persons_list)\n",
    "for i in range(0, length):\n",
    "    for j in range (i, length):\n",
    "        array_persons[i,j] = 1 / (1 + (abs (int(persons_list[i]) - int(persons_list[j]))))\n",
    "        array_persons[j, i] = 1 / (1 + (abs (int(persons_list[i]) - int(persons_list[j]))))\n",
    "\n",
    "print(array_persons)"
   ]
  },
  {
   "cell_type": "code",
   "execution_count": 17,
   "id": "904a4a6e",
   "metadata": {},
   "outputs": [
    {
     "name": "stdout",
     "output_type": "stream",
     "text": [
      "[[1.  1.  0.5 ... 1.  1.  0.5]\n",
      " [1.  1.  0.5 ... 1.  1.  0.5]\n",
      " [0.5 0.5 1.  ... 0.5 0.5 1. ]\n",
      " ...\n",
      " [1.  1.  0.5 ... 1.  1.  0.5]\n",
      " [1.  1.  0.5 ... 1.  1.  0.5]\n",
      " [0.5 0.5 1.  ... 0.5 0.5 1. ]]\n"
     ]
    }
   ],
   "source": [
    "#ordinal attributes \n",
    "#similarity = 1 - (|p-q| / (n-1))\n",
    "#Filling the initialised similarity matrix for attribute \"lug_boot\"\n",
    "\n",
    "lugboot_list = cars_rd['lug_boot'].tolist()\n",
    "length = len(lugboot_list)\n",
    "for i in range(0, length):\n",
    "    for j in range (i, length):\n",
    "        array_lugboot[i,j] = 1 - ((abs (int(lugboot_list[i]) - int(lugboot_list[j])))/(3-1))\n",
    "        array_lugboot[j, i] = 1 - ((abs (int(lugboot_list[j]) - int(lugboot_list[i])))/(3-1))\n",
    "\n",
    "print(array_lugboot)"
   ]
  },
  {
   "cell_type": "code",
   "execution_count": 22,
   "id": "20eb3cc0",
   "metadata": {},
   "outputs": [
    {
     "name": "stdout",
     "output_type": "stream",
     "text": [
      "[[1.  0.5 1.  ... 0.5 1.  1. ]\n",
      " [0.5 1.  0.5 ... 1.  0.5 0.5]\n",
      " [1.  0.5 1.  ... 0.5 1.  1. ]\n",
      " ...\n",
      " [0.5 1.  0.5 ... 1.  0.5 0.5]\n",
      " [1.  0.5 1.  ... 0.5 1.  1. ]\n",
      " [1.  0.5 1.  ... 0.5 1.  1. ]]\n"
     ]
    }
   ],
   "source": [
    "#for ordinal attributes \n",
    "#similarity = 1 - (|p-q| / (n-1))\n",
    "#Filling the initialised similarity matrix for attribute \"saftey\"\n",
    "\n",
    "safety_list = cars_rd['safety'].tolist()\n",
    "length = len(safety_list)\n",
    "for i in range(0, length):\n",
    "    for j in range (i, length):\n",
    "        array_safety[i,j] = 1 - ((abs (int(safety_list[i]) - int(safety_list[j])))/(3-1))\n",
    "        array_safety[j, i] = 1 - ((abs (int(safety_list[j]) - int(safety_list[i])))/(3-1))\n",
    "\n",
    "print(array_safety)"
   ]
  },
  {
   "cell_type": "code",
   "execution_count": 24,
   "id": "87eed39e",
   "metadata": {},
   "outputs": [],
   "source": [
    "#Combining Similarity\n",
    "#Creating Dataframe to store similairty value of each data objects attribute-wise\n",
    "\n",
    "mat1 = pd.DataFrame(array_buying)\n",
    "mat2 = pd.DataFrame(array_maint)\n",
    "mat3 = pd.DataFrame(array_doors)\n",
    "mat4 = pd.DataFrame(array_persons)\n",
    "mat5 = pd.DataFrame(array_lugboot)\n",
    "mat6 = pd.DataFrame(array_safety)\n",
    "\n",
    "final = np.zeros((len(cars_rd),len(cars_rd)))"
   ]
  },
  {
   "cell_type": "code",
   "execution_count": 25,
   "id": "728cae35",
   "metadata": {},
   "outputs": [
    {
     "data": {
      "text/html": [
       "<div>\n",
       "<style scoped>\n",
       "    .dataframe tbody tr th:only-of-type {\n",
       "        vertical-align: middle;\n",
       "    }\n",
       "\n",
       "    .dataframe tbody tr th {\n",
       "        vertical-align: top;\n",
       "    }\n",
       "\n",
       "    .dataframe thead th {\n",
       "        text-align: right;\n",
       "    }\n",
       "</style>\n",
       "<table border=\"1\" class=\"dataframe\">\n",
       "  <thead>\n",
       "    <tr style=\"text-align: right;\">\n",
       "      <th></th>\n",
       "      <th>0</th>\n",
       "      <th>1</th>\n",
       "      <th>2</th>\n",
       "      <th>3</th>\n",
       "      <th>4</th>\n",
       "      <th>5</th>\n",
       "      <th>6</th>\n",
       "      <th>7</th>\n",
       "      <th>8</th>\n",
       "      <th>9</th>\n",
       "      <th>...</th>\n",
       "      <th>522</th>\n",
       "      <th>523</th>\n",
       "      <th>524</th>\n",
       "      <th>525</th>\n",
       "      <th>526</th>\n",
       "      <th>527</th>\n",
       "      <th>528</th>\n",
       "      <th>529</th>\n",
       "      <th>530</th>\n",
       "      <th>531</th>\n",
       "    </tr>\n",
       "  </thead>\n",
       "  <tbody>\n",
       "    <tr>\n",
       "      <th>0</th>\n",
       "      <td>1.000000</td>\n",
       "      <td>0.555556</td>\n",
       "      <td>0.583333</td>\n",
       "      <td>0.472222</td>\n",
       "      <td>0.777778</td>\n",
       "      <td>0.777778</td>\n",
       "      <td>0.638889</td>\n",
       "      <td>0.694444</td>\n",
       "      <td>0.416667</td>\n",
       "      <td>0.611111</td>\n",
       "      <td>...</td>\n",
       "      <td>0.805556</td>\n",
       "      <td>0.333333</td>\n",
       "      <td>0.694444</td>\n",
       "      <td>0.666667</td>\n",
       "      <td>0.500000</td>\n",
       "      <td>0.666667</td>\n",
       "      <td>0.583333</td>\n",
       "      <td>0.638889</td>\n",
       "      <td>1.000000</td>\n",
       "      <td>0.666667</td>\n",
       "    </tr>\n",
       "    <tr>\n",
       "      <th>1</th>\n",
       "      <td>0.555556</td>\n",
       "      <td>1.000000</td>\n",
       "      <td>0.597222</td>\n",
       "      <td>0.597222</td>\n",
       "      <td>0.513889</td>\n",
       "      <td>0.500000</td>\n",
       "      <td>0.750000</td>\n",
       "      <td>0.486111</td>\n",
       "      <td>0.611111</td>\n",
       "      <td>0.791667</td>\n",
       "      <td>...</td>\n",
       "      <td>0.541667</td>\n",
       "      <td>0.666667</td>\n",
       "      <td>0.472222</td>\n",
       "      <td>0.500000</td>\n",
       "      <td>0.402778</td>\n",
       "      <td>0.402778</td>\n",
       "      <td>0.486111</td>\n",
       "      <td>0.597222</td>\n",
       "      <td>0.555556</td>\n",
       "      <td>0.388889</td>\n",
       "    </tr>\n",
       "    <tr>\n",
       "      <th>2</th>\n",
       "      <td>0.583333</td>\n",
       "      <td>0.597222</td>\n",
       "      <td>1.000000</td>\n",
       "      <td>0.555556</td>\n",
       "      <td>0.805556</td>\n",
       "      <td>0.527778</td>\n",
       "      <td>0.777778</td>\n",
       "      <td>0.458333</td>\n",
       "      <td>0.736111</td>\n",
       "      <td>0.555556</td>\n",
       "      <td>...</td>\n",
       "      <td>0.777778</td>\n",
       "      <td>0.486111</td>\n",
       "      <td>0.333333</td>\n",
       "      <td>0.638889</td>\n",
       "      <td>0.472222</td>\n",
       "      <td>0.805556</td>\n",
       "      <td>0.722222</td>\n",
       "      <td>0.666667</td>\n",
       "      <td>0.583333</td>\n",
       "      <td>0.694444</td>\n",
       "    </tr>\n",
       "    <tr>\n",
       "      <th>3</th>\n",
       "      <td>0.472222</td>\n",
       "      <td>0.597222</td>\n",
       "      <td>0.555556</td>\n",
       "      <td>1.000000</td>\n",
       "      <td>0.527778</td>\n",
       "      <td>0.416667</td>\n",
       "      <td>0.500000</td>\n",
       "      <td>0.555556</td>\n",
       "      <td>0.666667</td>\n",
       "      <td>0.486111</td>\n",
       "      <td>...</td>\n",
       "      <td>0.666667</td>\n",
       "      <td>0.652778</td>\n",
       "      <td>0.333333</td>\n",
       "      <td>0.638889</td>\n",
       "      <td>0.805556</td>\n",
       "      <td>0.638889</td>\n",
       "      <td>0.722222</td>\n",
       "      <td>0.666667</td>\n",
       "      <td>0.472222</td>\n",
       "      <td>0.472222</td>\n",
       "    </tr>\n",
       "    <tr>\n",
       "      <th>4</th>\n",
       "      <td>0.777778</td>\n",
       "      <td>0.513889</td>\n",
       "      <td>0.805556</td>\n",
       "      <td>0.527778</td>\n",
       "      <td>1.000000</td>\n",
       "      <td>0.722222</td>\n",
       "      <td>0.694444</td>\n",
       "      <td>0.472222</td>\n",
       "      <td>0.638889</td>\n",
       "      <td>0.569444</td>\n",
       "      <td>...</td>\n",
       "      <td>0.861111</td>\n",
       "      <td>0.291667</td>\n",
       "      <td>0.472222</td>\n",
       "      <td>0.722222</td>\n",
       "      <td>0.555556</td>\n",
       "      <td>0.888889</td>\n",
       "      <td>0.805556</td>\n",
       "      <td>0.583333</td>\n",
       "      <td>0.777778</td>\n",
       "      <td>0.722222</td>\n",
       "    </tr>\n",
       "    <tr>\n",
       "      <th>...</th>\n",
       "      <td>...</td>\n",
       "      <td>...</td>\n",
       "      <td>...</td>\n",
       "      <td>...</td>\n",
       "      <td>...</td>\n",
       "      <td>...</td>\n",
       "      <td>...</td>\n",
       "      <td>...</td>\n",
       "      <td>...</td>\n",
       "      <td>...</td>\n",
       "      <td>...</td>\n",
       "      <td>...</td>\n",
       "      <td>...</td>\n",
       "      <td>...</td>\n",
       "      <td>...</td>\n",
       "      <td>...</td>\n",
       "      <td>...</td>\n",
       "      <td>...</td>\n",
       "      <td>...</td>\n",
       "      <td>...</td>\n",
       "      <td>...</td>\n",
       "    </tr>\n",
       "    <tr>\n",
       "      <th>527</th>\n",
       "      <td>0.666667</td>\n",
       "      <td>0.402778</td>\n",
       "      <td>0.805556</td>\n",
       "      <td>0.638889</td>\n",
       "      <td>0.888889</td>\n",
       "      <td>0.611111</td>\n",
       "      <td>0.583333</td>\n",
       "      <td>0.583333</td>\n",
       "      <td>0.638889</td>\n",
       "      <td>0.458333</td>\n",
       "      <td>...</td>\n",
       "      <td>0.861111</td>\n",
       "      <td>0.402778</td>\n",
       "      <td>0.361111</td>\n",
       "      <td>0.833333</td>\n",
       "      <td>0.666667</td>\n",
       "      <td>1.000000</td>\n",
       "      <td>0.916667</td>\n",
       "      <td>0.694444</td>\n",
       "      <td>0.666667</td>\n",
       "      <td>0.833333</td>\n",
       "    </tr>\n",
       "    <tr>\n",
       "      <th>528</th>\n",
       "      <td>0.583333</td>\n",
       "      <td>0.486111</td>\n",
       "      <td>0.722222</td>\n",
       "      <td>0.722222</td>\n",
       "      <td>0.805556</td>\n",
       "      <td>0.694444</td>\n",
       "      <td>0.666667</td>\n",
       "      <td>0.666667</td>\n",
       "      <td>0.722222</td>\n",
       "      <td>0.375000</td>\n",
       "      <td>...</td>\n",
       "      <td>0.777778</td>\n",
       "      <td>0.486111</td>\n",
       "      <td>0.444444</td>\n",
       "      <td>0.916667</td>\n",
       "      <td>0.750000</td>\n",
       "      <td>0.916667</td>\n",
       "      <td>1.000000</td>\n",
       "      <td>0.777778</td>\n",
       "      <td>0.583333</td>\n",
       "      <td>0.750000</td>\n",
       "    </tr>\n",
       "    <tr>\n",
       "      <th>529</th>\n",
       "      <td>0.638889</td>\n",
       "      <td>0.597222</td>\n",
       "      <td>0.666667</td>\n",
       "      <td>0.666667</td>\n",
       "      <td>0.583333</td>\n",
       "      <td>0.583333</td>\n",
       "      <td>0.611111</td>\n",
       "      <td>0.791667</td>\n",
       "      <td>0.569444</td>\n",
       "      <td>0.388889</td>\n",
       "      <td>...</td>\n",
       "      <td>0.722222</td>\n",
       "      <td>0.597222</td>\n",
       "      <td>0.555556</td>\n",
       "      <td>0.694444</td>\n",
       "      <td>0.694444</td>\n",
       "      <td>0.694444</td>\n",
       "      <td>0.777778</td>\n",
       "      <td>1.000000</td>\n",
       "      <td>0.638889</td>\n",
       "      <td>0.583333</td>\n",
       "    </tr>\n",
       "    <tr>\n",
       "      <th>530</th>\n",
       "      <td>1.000000</td>\n",
       "      <td>0.555556</td>\n",
       "      <td>0.583333</td>\n",
       "      <td>0.472222</td>\n",
       "      <td>0.777778</td>\n",
       "      <td>0.777778</td>\n",
       "      <td>0.638889</td>\n",
       "      <td>0.694444</td>\n",
       "      <td>0.416667</td>\n",
       "      <td>0.611111</td>\n",
       "      <td>...</td>\n",
       "      <td>0.805556</td>\n",
       "      <td>0.333333</td>\n",
       "      <td>0.694444</td>\n",
       "      <td>0.666667</td>\n",
       "      <td>0.500000</td>\n",
       "      <td>0.666667</td>\n",
       "      <td>0.583333</td>\n",
       "      <td>0.638889</td>\n",
       "      <td>1.000000</td>\n",
       "      <td>0.666667</td>\n",
       "    </tr>\n",
       "    <tr>\n",
       "      <th>531</th>\n",
       "      <td>0.666667</td>\n",
       "      <td>0.388889</td>\n",
       "      <td>0.694444</td>\n",
       "      <td>0.472222</td>\n",
       "      <td>0.722222</td>\n",
       "      <td>0.611111</td>\n",
       "      <td>0.638889</td>\n",
       "      <td>0.694444</td>\n",
       "      <td>0.583333</td>\n",
       "      <td>0.500000</td>\n",
       "      <td>...</td>\n",
       "      <td>0.694444</td>\n",
       "      <td>0.388889</td>\n",
       "      <td>0.527778</td>\n",
       "      <td>0.833333</td>\n",
       "      <td>0.500000</td>\n",
       "      <td>0.833333</td>\n",
       "      <td>0.750000</td>\n",
       "      <td>0.583333</td>\n",
       "      <td>0.666667</td>\n",
       "      <td>1.000000</td>\n",
       "    </tr>\n",
       "  </tbody>\n",
       "</table>\n",
       "<p>532 rows × 532 columns</p>\n",
       "</div>"
      ],
      "text/plain": [
       "          0         1         2         3         4         5         6    \\\n",
       "0    1.000000  0.555556  0.583333  0.472222  0.777778  0.777778  0.638889   \n",
       "1    0.555556  1.000000  0.597222  0.597222  0.513889  0.500000  0.750000   \n",
       "2    0.583333  0.597222  1.000000  0.555556  0.805556  0.527778  0.777778   \n",
       "3    0.472222  0.597222  0.555556  1.000000  0.527778  0.416667  0.500000   \n",
       "4    0.777778  0.513889  0.805556  0.527778  1.000000  0.722222  0.694444   \n",
       "..        ...       ...       ...       ...       ...       ...       ...   \n",
       "527  0.666667  0.402778  0.805556  0.638889  0.888889  0.611111  0.583333   \n",
       "528  0.583333  0.486111  0.722222  0.722222  0.805556  0.694444  0.666667   \n",
       "529  0.638889  0.597222  0.666667  0.666667  0.583333  0.583333  0.611111   \n",
       "530  1.000000  0.555556  0.583333  0.472222  0.777778  0.777778  0.638889   \n",
       "531  0.666667  0.388889  0.694444  0.472222  0.722222  0.611111  0.638889   \n",
       "\n",
       "          7         8         9    ...       522       523       524  \\\n",
       "0    0.694444  0.416667  0.611111  ...  0.805556  0.333333  0.694444   \n",
       "1    0.486111  0.611111  0.791667  ...  0.541667  0.666667  0.472222   \n",
       "2    0.458333  0.736111  0.555556  ...  0.777778  0.486111  0.333333   \n",
       "3    0.555556  0.666667  0.486111  ...  0.666667  0.652778  0.333333   \n",
       "4    0.472222  0.638889  0.569444  ...  0.861111  0.291667  0.472222   \n",
       "..        ...       ...       ...  ...       ...       ...       ...   \n",
       "527  0.583333  0.638889  0.458333  ...  0.861111  0.402778  0.361111   \n",
       "528  0.666667  0.722222  0.375000  ...  0.777778  0.486111  0.444444   \n",
       "529  0.791667  0.569444  0.388889  ...  0.722222  0.597222  0.555556   \n",
       "530  0.694444  0.416667  0.611111  ...  0.805556  0.333333  0.694444   \n",
       "531  0.694444  0.583333  0.500000  ...  0.694444  0.388889  0.527778   \n",
       "\n",
       "          525       526       527       528       529       530       531  \n",
       "0    0.666667  0.500000  0.666667  0.583333  0.638889  1.000000  0.666667  \n",
       "1    0.500000  0.402778  0.402778  0.486111  0.597222  0.555556  0.388889  \n",
       "2    0.638889  0.472222  0.805556  0.722222  0.666667  0.583333  0.694444  \n",
       "3    0.638889  0.805556  0.638889  0.722222  0.666667  0.472222  0.472222  \n",
       "4    0.722222  0.555556  0.888889  0.805556  0.583333  0.777778  0.722222  \n",
       "..        ...       ...       ...       ...       ...       ...       ...  \n",
       "527  0.833333  0.666667  1.000000  0.916667  0.694444  0.666667  0.833333  \n",
       "528  0.916667  0.750000  0.916667  1.000000  0.777778  0.583333  0.750000  \n",
       "529  0.694444  0.694444  0.694444  0.777778  1.000000  0.638889  0.583333  \n",
       "530  0.666667  0.500000  0.666667  0.583333  0.638889  1.000000  0.666667  \n",
       "531  0.833333  0.500000  0.833333  0.750000  0.583333  0.666667  1.000000  \n",
       "\n",
       "[532 rows x 532 columns]"
      ]
     },
     "execution_count": 25,
     "metadata": {},
     "output_type": "execute_result"
    }
   ],
   "source": [
    "# Combining similarity formula \n",
    "wt = 1\n",
    "for i in range(len(cars_rd)):\n",
    "    for j in range(i,len(cars_rd)):\n",
    "        final[i,j] = final[j,i] = (\n",
    "            wt*mat1.loc[i,j]+\n",
    "            wt*mat2.loc[i,j]+\n",
    "            wt*mat3.loc[i,j]+\n",
    "            wt*mat4.loc[i,j]+\n",
    "            wt*mat5.loc[i,j]+\n",
    "            wt*mat6.loc[i,j]\n",
    "        )/6\n",
    "final_matrix = pd.DataFrame(final)\n",
    "final_matrix"
   ]
  },
  {
   "cell_type": "code",
   "execution_count": 26,
   "id": "d259da0f",
   "metadata": {},
   "outputs": [],
   "source": [
    "final_matrix.to_csv('Similarity Matrix.csv')"
   ]
  }
 ],
 "metadata": {
  "kernelspec": {
   "display_name": "Python 3 (ipykernel)",
   "language": "python",
   "name": "python3"
  },
  "language_info": {
   "codemirror_mode": {
    "name": "ipython",
    "version": 3
   },
   "file_extension": ".py",
   "mimetype": "text/x-python",
   "name": "python",
   "nbconvert_exporter": "python",
   "pygments_lexer": "ipython3",
   "version": "3.9.12"
  }
 },
 "nbformat": 4,
 "nbformat_minor": 5
}

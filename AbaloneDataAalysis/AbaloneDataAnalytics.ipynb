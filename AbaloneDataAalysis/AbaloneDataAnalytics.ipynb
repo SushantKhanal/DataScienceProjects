{
 "cells": [
  {
   "cell_type": "code",
   "execution_count": 1,
   "id": "d5548fed",
   "metadata": {},
   "outputs": [
    {
     "name": "stdout",
     "output_type": "stream",
     "text": [
      "<class 'pandas.core.frame.DataFrame'>\n",
      "RangeIndex: 4177 entries, 0 to 4176\n",
      "Data columns (total 9 columns):\n",
      " #   Column  Non-Null Count  Dtype  \n",
      "---  ------  --------------  -----  \n",
      " 0   0       4177 non-null   object \n",
      " 1   1       4177 non-null   float64\n",
      " 2   2       4177 non-null   float64\n",
      " 3   3       4177 non-null   float64\n",
      " 4   4       4177 non-null   float64\n",
      " 5   5       4177 non-null   float64\n",
      " 6   6       4177 non-null   float64\n",
      " 7   7       4177 non-null   float64\n",
      " 8   8       4177 non-null   int64  \n",
      "dtypes: float64(7), int64(1), object(1)\n",
      "memory usage: 293.8+ KB\n"
     ]
    }
   ],
   "source": [
    "#STEP 1\n",
    "import pandas as pd\n",
    "import numpy as np\n",
    "import matplotlib.pyplot as plt\n",
    "import seaborn as sns\n",
    "\n",
    "import math\n",
    "\n",
    "f = open(\"outputfile.txt\",\"w+\")\n",
    "data = pd.read_csv('abalone.data', index_col = False, header=None)\n",
    "data.info()"
   ]
  },
  {
   "cell_type": "code",
   "execution_count": 2,
   "id": "381394e7",
   "metadata": {},
   "outputs": [],
   "source": [
    "#STEP 1\n",
    "attributes = ['sex', 'length', 'diameter', 'height', 'whole_weight', 'shucked_weight', 'viscera_weight', 'shell_weight', 'num_of_rings']\n",
    "data.columns = attributes\n",
    "# f.write(\"\\n\" + data.describe().to_string() + \"\\n\")"
   ]
  },
  {
   "cell_type": "markdown",
   "id": "f0bcc012",
   "metadata": {},
   "source": [
    "##PREPROCESSING\n",
    "\n",
    "#We know that the integer value for ring plus 1.5 years gives us the age in years. So we convert the ring to age and drop 'ring' attribute, since age is what the data set is aiming to predict"
   ]
  },
  {
   "cell_type": "code",
   "execution_count": 3,
   "id": "3ac2e467",
   "metadata": {},
   "outputs": [
    {
     "data": {
      "text/html": [
       "<div>\n",
       "<style scoped>\n",
       "    .dataframe tbody tr th:only-of-type {\n",
       "        vertical-align: middle;\n",
       "    }\n",
       "\n",
       "    .dataframe tbody tr th {\n",
       "        vertical-align: top;\n",
       "    }\n",
       "\n",
       "    .dataframe thead th {\n",
       "        text-align: right;\n",
       "    }\n",
       "</style>\n",
       "<table border=\"1\" class=\"dataframe\">\n",
       "  <thead>\n",
       "    <tr style=\"text-align: right;\">\n",
       "      <th></th>\n",
       "      <th>sex</th>\n",
       "      <th>length</th>\n",
       "      <th>diameter</th>\n",
       "      <th>height</th>\n",
       "      <th>whole_weight</th>\n",
       "      <th>shucked_weight</th>\n",
       "      <th>viscera_weight</th>\n",
       "      <th>shell_weight</th>\n",
       "      <th>num_of_rings</th>\n",
       "      <th>predicted_age</th>\n",
       "    </tr>\n",
       "  </thead>\n",
       "  <tbody>\n",
       "    <tr>\n",
       "      <th>0</th>\n",
       "      <td>M</td>\n",
       "      <td>0.455</td>\n",
       "      <td>0.365</td>\n",
       "      <td>0.095</td>\n",
       "      <td>0.5140</td>\n",
       "      <td>0.2245</td>\n",
       "      <td>0.1010</td>\n",
       "      <td>0.1500</td>\n",
       "      <td>15</td>\n",
       "      <td>16.5</td>\n",
       "    </tr>\n",
       "    <tr>\n",
       "      <th>1</th>\n",
       "      <td>M</td>\n",
       "      <td>0.350</td>\n",
       "      <td>0.265</td>\n",
       "      <td>0.090</td>\n",
       "      <td>0.2255</td>\n",
       "      <td>0.0995</td>\n",
       "      <td>0.0485</td>\n",
       "      <td>0.0700</td>\n",
       "      <td>7</td>\n",
       "      <td>8.5</td>\n",
       "    </tr>\n",
       "    <tr>\n",
       "      <th>2</th>\n",
       "      <td>F</td>\n",
       "      <td>0.530</td>\n",
       "      <td>0.420</td>\n",
       "      <td>0.135</td>\n",
       "      <td>0.6770</td>\n",
       "      <td>0.2565</td>\n",
       "      <td>0.1415</td>\n",
       "      <td>0.2100</td>\n",
       "      <td>9</td>\n",
       "      <td>10.5</td>\n",
       "    </tr>\n",
       "    <tr>\n",
       "      <th>3</th>\n",
       "      <td>M</td>\n",
       "      <td>0.440</td>\n",
       "      <td>0.365</td>\n",
       "      <td>0.125</td>\n",
       "      <td>0.5160</td>\n",
       "      <td>0.2155</td>\n",
       "      <td>0.1140</td>\n",
       "      <td>0.1550</td>\n",
       "      <td>10</td>\n",
       "      <td>11.5</td>\n",
       "    </tr>\n",
       "    <tr>\n",
       "      <th>4</th>\n",
       "      <td>I</td>\n",
       "      <td>0.330</td>\n",
       "      <td>0.255</td>\n",
       "      <td>0.080</td>\n",
       "      <td>0.2050</td>\n",
       "      <td>0.0895</td>\n",
       "      <td>0.0395</td>\n",
       "      <td>0.0550</td>\n",
       "      <td>7</td>\n",
       "      <td>8.5</td>\n",
       "    </tr>\n",
       "    <tr>\n",
       "      <th>...</th>\n",
       "      <td>...</td>\n",
       "      <td>...</td>\n",
       "      <td>...</td>\n",
       "      <td>...</td>\n",
       "      <td>...</td>\n",
       "      <td>...</td>\n",
       "      <td>...</td>\n",
       "      <td>...</td>\n",
       "      <td>...</td>\n",
       "      <td>...</td>\n",
       "    </tr>\n",
       "    <tr>\n",
       "      <th>4172</th>\n",
       "      <td>F</td>\n",
       "      <td>0.565</td>\n",
       "      <td>0.450</td>\n",
       "      <td>0.165</td>\n",
       "      <td>0.8870</td>\n",
       "      <td>0.3700</td>\n",
       "      <td>0.2390</td>\n",
       "      <td>0.2490</td>\n",
       "      <td>11</td>\n",
       "      <td>12.5</td>\n",
       "    </tr>\n",
       "    <tr>\n",
       "      <th>4173</th>\n",
       "      <td>M</td>\n",
       "      <td>0.590</td>\n",
       "      <td>0.440</td>\n",
       "      <td>0.135</td>\n",
       "      <td>0.9660</td>\n",
       "      <td>0.4390</td>\n",
       "      <td>0.2145</td>\n",
       "      <td>0.2605</td>\n",
       "      <td>10</td>\n",
       "      <td>11.5</td>\n",
       "    </tr>\n",
       "    <tr>\n",
       "      <th>4174</th>\n",
       "      <td>M</td>\n",
       "      <td>0.600</td>\n",
       "      <td>0.475</td>\n",
       "      <td>0.205</td>\n",
       "      <td>1.1760</td>\n",
       "      <td>0.5255</td>\n",
       "      <td>0.2875</td>\n",
       "      <td>0.3080</td>\n",
       "      <td>9</td>\n",
       "      <td>10.5</td>\n",
       "    </tr>\n",
       "    <tr>\n",
       "      <th>4175</th>\n",
       "      <td>F</td>\n",
       "      <td>0.625</td>\n",
       "      <td>0.485</td>\n",
       "      <td>0.150</td>\n",
       "      <td>1.0945</td>\n",
       "      <td>0.5310</td>\n",
       "      <td>0.2610</td>\n",
       "      <td>0.2960</td>\n",
       "      <td>10</td>\n",
       "      <td>11.5</td>\n",
       "    </tr>\n",
       "    <tr>\n",
       "      <th>4176</th>\n",
       "      <td>M</td>\n",
       "      <td>0.710</td>\n",
       "      <td>0.555</td>\n",
       "      <td>0.195</td>\n",
       "      <td>1.9485</td>\n",
       "      <td>0.9455</td>\n",
       "      <td>0.3765</td>\n",
       "      <td>0.4950</td>\n",
       "      <td>12</td>\n",
       "      <td>13.5</td>\n",
       "    </tr>\n",
       "  </tbody>\n",
       "</table>\n",
       "<p>4177 rows × 10 columns</p>\n",
       "</div>"
      ],
      "text/plain": [
       "     sex  length  diameter  height  whole_weight  shucked_weight  \\\n",
       "0      M   0.455     0.365   0.095        0.5140          0.2245   \n",
       "1      M   0.350     0.265   0.090        0.2255          0.0995   \n",
       "2      F   0.530     0.420   0.135        0.6770          0.2565   \n",
       "3      M   0.440     0.365   0.125        0.5160          0.2155   \n",
       "4      I   0.330     0.255   0.080        0.2050          0.0895   \n",
       "...   ..     ...       ...     ...           ...             ...   \n",
       "4172   F   0.565     0.450   0.165        0.8870          0.3700   \n",
       "4173   M   0.590     0.440   0.135        0.9660          0.4390   \n",
       "4174   M   0.600     0.475   0.205        1.1760          0.5255   \n",
       "4175   F   0.625     0.485   0.150        1.0945          0.5310   \n",
       "4176   M   0.710     0.555   0.195        1.9485          0.9455   \n",
       "\n",
       "      viscera_weight  shell_weight  num_of_rings  predicted_age  \n",
       "0             0.1010        0.1500            15           16.5  \n",
       "1             0.0485        0.0700             7            8.5  \n",
       "2             0.1415        0.2100             9           10.5  \n",
       "3             0.1140        0.1550            10           11.5  \n",
       "4             0.0395        0.0550             7            8.5  \n",
       "...              ...           ...           ...            ...  \n",
       "4172          0.2390        0.2490            11           12.5  \n",
       "4173          0.2145        0.2605            10           11.5  \n",
       "4174          0.2875        0.3080             9           10.5  \n",
       "4175          0.2610        0.2960            10           11.5  \n",
       "4176          0.3765        0.4950            12           13.5  \n",
       "\n",
       "[4177 rows x 10 columns]"
      ]
     },
     "execution_count": 3,
     "metadata": {},
     "output_type": "execute_result"
    }
   ],
   "source": [
    "#STEP 2\n",
    "\n",
    "#Add a new column 'AGE'\n",
    "data['predicted_age'] = data.num_of_rings + 1.5\n",
    "data"
   ]
  },
  {
   "cell_type": "code",
   "execution_count": 4,
   "id": "951300b6",
   "metadata": {},
   "outputs": [
    {
     "data": {
      "text/html": [
       "<div>\n",
       "<style scoped>\n",
       "    .dataframe tbody tr th:only-of-type {\n",
       "        vertical-align: middle;\n",
       "    }\n",
       "\n",
       "    .dataframe tbody tr th {\n",
       "        vertical-align: top;\n",
       "    }\n",
       "\n",
       "    .dataframe thead th {\n",
       "        text-align: right;\n",
       "    }\n",
       "</style>\n",
       "<table border=\"1\" class=\"dataframe\">\n",
       "  <thead>\n",
       "    <tr style=\"text-align: right;\">\n",
       "      <th></th>\n",
       "      <th>sex</th>\n",
       "      <th>length</th>\n",
       "      <th>diameter</th>\n",
       "      <th>height</th>\n",
       "      <th>whole_weight</th>\n",
       "      <th>shucked_weight</th>\n",
       "      <th>viscera_weight</th>\n",
       "      <th>shell_weight</th>\n",
       "      <th>predicted_age</th>\n",
       "    </tr>\n",
       "  </thead>\n",
       "  <tbody>\n",
       "    <tr>\n",
       "      <th>0</th>\n",
       "      <td>M</td>\n",
       "      <td>0.455</td>\n",
       "      <td>0.365</td>\n",
       "      <td>0.095</td>\n",
       "      <td>0.5140</td>\n",
       "      <td>0.2245</td>\n",
       "      <td>0.1010</td>\n",
       "      <td>0.150</td>\n",
       "      <td>16.5</td>\n",
       "    </tr>\n",
       "    <tr>\n",
       "      <th>1</th>\n",
       "      <td>M</td>\n",
       "      <td>0.350</td>\n",
       "      <td>0.265</td>\n",
       "      <td>0.090</td>\n",
       "      <td>0.2255</td>\n",
       "      <td>0.0995</td>\n",
       "      <td>0.0485</td>\n",
       "      <td>0.070</td>\n",
       "      <td>8.5</td>\n",
       "    </tr>\n",
       "    <tr>\n",
       "      <th>2</th>\n",
       "      <td>F</td>\n",
       "      <td>0.530</td>\n",
       "      <td>0.420</td>\n",
       "      <td>0.135</td>\n",
       "      <td>0.6770</td>\n",
       "      <td>0.2565</td>\n",
       "      <td>0.1415</td>\n",
       "      <td>0.210</td>\n",
       "      <td>10.5</td>\n",
       "    </tr>\n",
       "    <tr>\n",
       "      <th>3</th>\n",
       "      <td>M</td>\n",
       "      <td>0.440</td>\n",
       "      <td>0.365</td>\n",
       "      <td>0.125</td>\n",
       "      <td>0.5160</td>\n",
       "      <td>0.2155</td>\n",
       "      <td>0.1140</td>\n",
       "      <td>0.155</td>\n",
       "      <td>11.5</td>\n",
       "    </tr>\n",
       "    <tr>\n",
       "      <th>4</th>\n",
       "      <td>I</td>\n",
       "      <td>0.330</td>\n",
       "      <td>0.255</td>\n",
       "      <td>0.080</td>\n",
       "      <td>0.2050</td>\n",
       "      <td>0.0895</td>\n",
       "      <td>0.0395</td>\n",
       "      <td>0.055</td>\n",
       "      <td>8.5</td>\n",
       "    </tr>\n",
       "  </tbody>\n",
       "</table>\n",
       "</div>"
      ],
      "text/plain": [
       "  sex  length  diameter  height  whole_weight  shucked_weight  viscera_weight  \\\n",
       "0   M   0.455     0.365   0.095        0.5140          0.2245          0.1010   \n",
       "1   M   0.350     0.265   0.090        0.2255          0.0995          0.0485   \n",
       "2   F   0.530     0.420   0.135        0.6770          0.2565          0.1415   \n",
       "3   M   0.440     0.365   0.125        0.5160          0.2155          0.1140   \n",
       "4   I   0.330     0.255   0.080        0.2050          0.0895          0.0395   \n",
       "\n",
       "   shell_weight  predicted_age  \n",
       "0         0.150           16.5  \n",
       "1         0.070            8.5  \n",
       "2         0.210           10.5  \n",
       "3         0.155           11.5  \n",
       "4         0.055            8.5  "
      ]
     },
     "execution_count": 4,
     "metadata": {},
     "output_type": "execute_result"
    }
   ],
   "source": [
    "#STEP 2\n",
    "\n",
    "#Since we have added 'AGE', we can now drop 'num_of_rings'\n",
    "data.drop('num_of_rings', axis=1, inplace=True)\n",
    "data.head()"
   ]
  },
  {
   "cell_type": "code",
   "execution_count": 5,
   "id": "dbca2b67",
   "metadata": {
    "scrolled": true
   },
   "outputs": [
    {
     "name": "stdout",
     "output_type": "stream",
     "text": [
      "rows 4177\n",
      "cols 9\n"
     ]
    }
   ],
   "source": [
    "# f.write(\"\\nrows count: \" + str(data.shape[0]))\n",
    "# f.write(\"\\ncols count: \" + str(data.shape[1]))\n",
    "print(\"rows\", data.shape[0])\n",
    "print(\"cols\", data.shape[1])"
   ]
  },
  {
   "cell_type": "code",
   "execution_count": 6,
   "id": "935b8a1d",
   "metadata": {},
   "outputs": [
    {
     "data": {
      "text/plain": [
       "sex                  3\n",
       "length             134\n",
       "diameter           111\n",
       "height              51\n",
       "whole_weight      2429\n",
       "shucked_weight    1515\n",
       "viscera_weight     880\n",
       "shell_weight       926\n",
       "predicted_age       28\n",
       "dtype: int64"
      ]
     },
     "execution_count": 6,
     "metadata": {},
     "output_type": "execute_result"
    }
   ],
   "source": [
    "# f.write(\"\\n\" + data.nunique().to_string())\n",
    "data.nunique()"
   ]
  },
  {
   "cell_type": "code",
   "execution_count": 7,
   "id": "9c75d8fe",
   "metadata": {},
   "outputs": [
    {
     "data": {
      "text/plain": [
       "sex               0\n",
       "length            0\n",
       "diameter          0\n",
       "height            0\n",
       "whole_weight      0\n",
       "shucked_weight    0\n",
       "viscera_weight    0\n",
       "shell_weight      0\n",
       "predicted_age     0\n",
       "dtype: int64"
      ]
     },
     "execution_count": 7,
     "metadata": {},
     "output_type": "execute_result"
    }
   ],
   "source": [
    "#STEP 2\n",
    "\n",
    "#we can see that the data set has no missing value\n",
    "# f.write(\"\\n\" + data.isnull().sum().to_string())\n",
    "data.isnull().sum()"
   ]
  },
  {
   "cell_type": "code",
   "execution_count": 8,
   "id": "120b61c1",
   "metadata": {},
   "outputs": [
    {
     "data": {
      "text/html": [
       "<div>\n",
       "<style scoped>\n",
       "    .dataframe tbody tr th:only-of-type {\n",
       "        vertical-align: middle;\n",
       "    }\n",
       "\n",
       "    .dataframe tbody tr th {\n",
       "        vertical-align: top;\n",
       "    }\n",
       "\n",
       "    .dataframe thead th {\n",
       "        text-align: right;\n",
       "    }\n",
       "</style>\n",
       "<table border=\"1\" class=\"dataframe\">\n",
       "  <thead>\n",
       "    <tr style=\"text-align: right;\">\n",
       "      <th></th>\n",
       "      <th>sex</th>\n",
       "      <th>length</th>\n",
       "      <th>diameter</th>\n",
       "      <th>height</th>\n",
       "      <th>whole_weight</th>\n",
       "      <th>shucked_weight</th>\n",
       "      <th>viscera_weight</th>\n",
       "      <th>shell_weight</th>\n",
       "      <th>predicted_age</th>\n",
       "    </tr>\n",
       "  </thead>\n",
       "  <tbody>\n",
       "    <tr>\n",
       "      <th>2608</th>\n",
       "      <td>0</td>\n",
       "      <td>0.625</td>\n",
       "      <td>0.490</td>\n",
       "      <td>0.175</td>\n",
       "      <td>1.1075</td>\n",
       "      <td>0.4485</td>\n",
       "      <td>0.2165</td>\n",
       "      <td>0.3595</td>\n",
       "      <td>9.5</td>\n",
       "    </tr>\n",
       "    <tr>\n",
       "      <th>601</th>\n",
       "      <td>0</td>\n",
       "      <td>0.385</td>\n",
       "      <td>0.315</td>\n",
       "      <td>0.110</td>\n",
       "      <td>0.2860</td>\n",
       "      <td>0.1225</td>\n",
       "      <td>0.0635</td>\n",
       "      <td>0.0835</td>\n",
       "      <td>11.5</td>\n",
       "    </tr>\n",
       "    <tr>\n",
       "      <th>3633</th>\n",
       "      <td>2</td>\n",
       "      <td>0.300</td>\n",
       "      <td>0.220</td>\n",
       "      <td>0.065</td>\n",
       "      <td>0.1195</td>\n",
       "      <td>0.0520</td>\n",
       "      <td>0.0155</td>\n",
       "      <td>0.0350</td>\n",
       "      <td>6.5</td>\n",
       "    </tr>\n",
       "    <tr>\n",
       "      <th>191</th>\n",
       "      <td>1</td>\n",
       "      <td>0.610</td>\n",
       "      <td>0.485</td>\n",
       "      <td>0.170</td>\n",
       "      <td>1.0225</td>\n",
       "      <td>0.4190</td>\n",
       "      <td>0.2405</td>\n",
       "      <td>0.3600</td>\n",
       "      <td>13.5</td>\n",
       "    </tr>\n",
       "    <tr>\n",
       "      <th>3066</th>\n",
       "      <td>0</td>\n",
       "      <td>0.640</td>\n",
       "      <td>0.500</td>\n",
       "      <td>0.150</td>\n",
       "      <td>1.2015</td>\n",
       "      <td>0.5590</td>\n",
       "      <td>0.2310</td>\n",
       "      <td>0.3355</td>\n",
       "      <td>10.5</td>\n",
       "    </tr>\n",
       "    <tr>\n",
       "      <th>1569</th>\n",
       "      <td>2</td>\n",
       "      <td>0.475</td>\n",
       "      <td>0.360</td>\n",
       "      <td>0.145</td>\n",
       "      <td>0.6325</td>\n",
       "      <td>0.2825</td>\n",
       "      <td>0.1370</td>\n",
       "      <td>0.1900</td>\n",
       "      <td>9.5</td>\n",
       "    </tr>\n",
       "    <tr>\n",
       "      <th>294</th>\n",
       "      <td>1</td>\n",
       "      <td>0.600</td>\n",
       "      <td>0.495</td>\n",
       "      <td>0.195</td>\n",
       "      <td>1.0575</td>\n",
       "      <td>0.3840</td>\n",
       "      <td>0.1900</td>\n",
       "      <td>0.3750</td>\n",
       "      <td>27.5</td>\n",
       "    </tr>\n",
       "    <tr>\n",
       "      <th>615</th>\n",
       "      <td>1</td>\n",
       "      <td>0.415</td>\n",
       "      <td>0.345</td>\n",
       "      <td>0.135</td>\n",
       "      <td>0.3865</td>\n",
       "      <td>0.1280</td>\n",
       "      <td>0.0700</td>\n",
       "      <td>0.1480</td>\n",
       "      <td>14.5</td>\n",
       "    </tr>\n",
       "    <tr>\n",
       "      <th>2393</th>\n",
       "      <td>2</td>\n",
       "      <td>0.300</td>\n",
       "      <td>0.220</td>\n",
       "      <td>0.090</td>\n",
       "      <td>0.1425</td>\n",
       "      <td>0.0570</td>\n",
       "      <td>0.0335</td>\n",
       "      <td>0.0430</td>\n",
       "      <td>8.5</td>\n",
       "    </tr>\n",
       "    <tr>\n",
       "      <th>4072</th>\n",
       "      <td>2</td>\n",
       "      <td>0.500</td>\n",
       "      <td>0.360</td>\n",
       "      <td>0.120</td>\n",
       "      <td>0.4390</td>\n",
       "      <td>0.1875</td>\n",
       "      <td>0.1055</td>\n",
       "      <td>0.1305</td>\n",
       "      <td>9.5</td>\n",
       "    </tr>\n",
       "  </tbody>\n",
       "</table>\n",
       "</div>"
      ],
      "text/plain": [
       "      sex  length  diameter  height  whole_weight  shucked_weight  \\\n",
       "2608    0   0.625     0.490   0.175        1.1075          0.4485   \n",
       "601     0   0.385     0.315   0.110        0.2860          0.1225   \n",
       "3633    2   0.300     0.220   0.065        0.1195          0.0520   \n",
       "191     1   0.610     0.485   0.170        1.0225          0.4190   \n",
       "3066    0   0.640     0.500   0.150        1.2015          0.5590   \n",
       "1569    2   0.475     0.360   0.145        0.6325          0.2825   \n",
       "294     1   0.600     0.495   0.195        1.0575          0.3840   \n",
       "615     1   0.415     0.345   0.135        0.3865          0.1280   \n",
       "2393    2   0.300     0.220   0.090        0.1425          0.0570   \n",
       "4072    2   0.500     0.360   0.120        0.4390          0.1875   \n",
       "\n",
       "      viscera_weight  shell_weight  predicted_age  \n",
       "2608          0.2165        0.3595            9.5  \n",
       "601           0.0635        0.0835           11.5  \n",
       "3633          0.0155        0.0350            6.5  \n",
       "191           0.2405        0.3600           13.5  \n",
       "3066          0.2310        0.3355           10.5  \n",
       "1569          0.1370        0.1900            9.5  \n",
       "294           0.1900        0.3750           27.5  \n",
       "615           0.0700        0.1480           14.5  \n",
       "2393          0.0335        0.0430            8.5  \n",
       "4072          0.1055        0.1305            9.5  "
      ]
     },
     "execution_count": 8,
     "metadata": {},
     "output_type": "execute_result"
    }
   ],
   "source": [
    "#STEP 2\n",
    "\n",
    "\n",
    "#Preprocessing: converting to numerical data\n",
    "#We replace 'F', 'M' and 'I' in sex with 0, 1 and 2 respectively\n",
    "\n",
    "data.sex = data.sex.replace('F', 0).replace('M', 1).replace('I', 2)\n",
    "# f.write(\"\\n\" + data.sample(10).to_string())\n",
    "data.sample(10)\n"
   ]
  },
  {
   "cell_type": "code",
   "execution_count": 9,
   "id": "99d70d16",
   "metadata": {},
   "outputs": [
    {
     "data": {
      "text/html": [
       "<div>\n",
       "<style scoped>\n",
       "    .dataframe tbody tr th:only-of-type {\n",
       "        vertical-align: middle;\n",
       "    }\n",
       "\n",
       "    .dataframe tbody tr th {\n",
       "        vertical-align: top;\n",
       "    }\n",
       "\n",
       "    .dataframe thead th {\n",
       "        text-align: right;\n",
       "    }\n",
       "</style>\n",
       "<table border=\"1\" class=\"dataframe\">\n",
       "  <thead>\n",
       "    <tr style=\"text-align: right;\">\n",
       "      <th></th>\n",
       "      <th>sex</th>\n",
       "      <th>length</th>\n",
       "      <th>diameter</th>\n",
       "      <th>height</th>\n",
       "      <th>whole_weight</th>\n",
       "      <th>shucked_weight</th>\n",
       "      <th>viscera_weight</th>\n",
       "      <th>shell_weight</th>\n",
       "      <th>predicted_age</th>\n",
       "    </tr>\n",
       "  </thead>\n",
       "  <tbody>\n",
       "    <tr>\n",
       "      <th>0</th>\n",
       "      <td>1</td>\n",
       "      <td>0.455</td>\n",
       "      <td>0.365</td>\n",
       "      <td>0.095</td>\n",
       "      <td>0.5140</td>\n",
       "      <td>0.2245</td>\n",
       "      <td>0.1010</td>\n",
       "      <td>0.1500</td>\n",
       "      <td>16.5</td>\n",
       "    </tr>\n",
       "    <tr>\n",
       "      <th>1</th>\n",
       "      <td>1</td>\n",
       "      <td>0.350</td>\n",
       "      <td>0.265</td>\n",
       "      <td>0.090</td>\n",
       "      <td>0.2255</td>\n",
       "      <td>0.0995</td>\n",
       "      <td>0.0485</td>\n",
       "      <td>0.0700</td>\n",
       "      <td>8.5</td>\n",
       "    </tr>\n",
       "    <tr>\n",
       "      <th>2</th>\n",
       "      <td>0</td>\n",
       "      <td>0.530</td>\n",
       "      <td>0.420</td>\n",
       "      <td>0.135</td>\n",
       "      <td>0.6770</td>\n",
       "      <td>0.2565</td>\n",
       "      <td>0.1415</td>\n",
       "      <td>0.2100</td>\n",
       "      <td>10.5</td>\n",
       "    </tr>\n",
       "    <tr>\n",
       "      <th>3</th>\n",
       "      <td>1</td>\n",
       "      <td>0.440</td>\n",
       "      <td>0.365</td>\n",
       "      <td>0.125</td>\n",
       "      <td>0.5160</td>\n",
       "      <td>0.2155</td>\n",
       "      <td>0.1140</td>\n",
       "      <td>0.1550</td>\n",
       "      <td>11.5</td>\n",
       "    </tr>\n",
       "    <tr>\n",
       "      <th>4</th>\n",
       "      <td>2</td>\n",
       "      <td>0.330</td>\n",
       "      <td>0.255</td>\n",
       "      <td>0.080</td>\n",
       "      <td>0.2050</td>\n",
       "      <td>0.0895</td>\n",
       "      <td>0.0395</td>\n",
       "      <td>0.0550</td>\n",
       "      <td>8.5</td>\n",
       "    </tr>\n",
       "    <tr>\n",
       "      <th>...</th>\n",
       "      <td>...</td>\n",
       "      <td>...</td>\n",
       "      <td>...</td>\n",
       "      <td>...</td>\n",
       "      <td>...</td>\n",
       "      <td>...</td>\n",
       "      <td>...</td>\n",
       "      <td>...</td>\n",
       "      <td>...</td>\n",
       "    </tr>\n",
       "    <tr>\n",
       "      <th>4172</th>\n",
       "      <td>0</td>\n",
       "      <td>0.565</td>\n",
       "      <td>0.450</td>\n",
       "      <td>0.165</td>\n",
       "      <td>0.8870</td>\n",
       "      <td>0.3700</td>\n",
       "      <td>0.2390</td>\n",
       "      <td>0.2490</td>\n",
       "      <td>12.5</td>\n",
       "    </tr>\n",
       "    <tr>\n",
       "      <th>4173</th>\n",
       "      <td>1</td>\n",
       "      <td>0.590</td>\n",
       "      <td>0.440</td>\n",
       "      <td>0.135</td>\n",
       "      <td>0.9660</td>\n",
       "      <td>0.4390</td>\n",
       "      <td>0.2145</td>\n",
       "      <td>0.2605</td>\n",
       "      <td>11.5</td>\n",
       "    </tr>\n",
       "    <tr>\n",
       "      <th>4174</th>\n",
       "      <td>1</td>\n",
       "      <td>0.600</td>\n",
       "      <td>0.475</td>\n",
       "      <td>0.205</td>\n",
       "      <td>1.1760</td>\n",
       "      <td>0.5255</td>\n",
       "      <td>0.2875</td>\n",
       "      <td>0.3080</td>\n",
       "      <td>10.5</td>\n",
       "    </tr>\n",
       "    <tr>\n",
       "      <th>4175</th>\n",
       "      <td>0</td>\n",
       "      <td>0.625</td>\n",
       "      <td>0.485</td>\n",
       "      <td>0.150</td>\n",
       "      <td>1.0945</td>\n",
       "      <td>0.5310</td>\n",
       "      <td>0.2610</td>\n",
       "      <td>0.2960</td>\n",
       "      <td>11.5</td>\n",
       "    </tr>\n",
       "    <tr>\n",
       "      <th>4176</th>\n",
       "      <td>1</td>\n",
       "      <td>0.710</td>\n",
       "      <td>0.555</td>\n",
       "      <td>0.195</td>\n",
       "      <td>1.9485</td>\n",
       "      <td>0.9455</td>\n",
       "      <td>0.3765</td>\n",
       "      <td>0.4950</td>\n",
       "      <td>13.5</td>\n",
       "    </tr>\n",
       "  </tbody>\n",
       "</table>\n",
       "<p>4177 rows × 9 columns</p>\n",
       "</div>"
      ],
      "text/plain": [
       "      sex  length  diameter  height  whole_weight  shucked_weight  \\\n",
       "0       1   0.455     0.365   0.095        0.5140          0.2245   \n",
       "1       1   0.350     0.265   0.090        0.2255          0.0995   \n",
       "2       0   0.530     0.420   0.135        0.6770          0.2565   \n",
       "3       1   0.440     0.365   0.125        0.5160          0.2155   \n",
       "4       2   0.330     0.255   0.080        0.2050          0.0895   \n",
       "...   ...     ...       ...     ...           ...             ...   \n",
       "4172    0   0.565     0.450   0.165        0.8870          0.3700   \n",
       "4173    1   0.590     0.440   0.135        0.9660          0.4390   \n",
       "4174    1   0.600     0.475   0.205        1.1760          0.5255   \n",
       "4175    0   0.625     0.485   0.150        1.0945          0.5310   \n",
       "4176    1   0.710     0.555   0.195        1.9485          0.9455   \n",
       "\n",
       "      viscera_weight  shell_weight  predicted_age  \n",
       "0             0.1010        0.1500           16.5  \n",
       "1             0.0485        0.0700            8.5  \n",
       "2             0.1415        0.2100           10.5  \n",
       "3             0.1140        0.1550           11.5  \n",
       "4             0.0395        0.0550            8.5  \n",
       "...              ...           ...            ...  \n",
       "4172          0.2390        0.2490           12.5  \n",
       "4173          0.2145        0.2605           11.5  \n",
       "4174          0.2875        0.3080           10.5  \n",
       "4175          0.2610        0.2960           11.5  \n",
       "4176          0.3765        0.4950           13.5  \n",
       "\n",
       "[4177 rows x 9 columns]"
      ]
     },
     "execution_count": 9,
     "metadata": {},
     "output_type": "execute_result"
    }
   ],
   "source": [
    "#STEP 2\n",
    "\n",
    "\n",
    "#But If there were any missing values here is what we would do to handle them\n",
    "for i in range(len(attributes)-1):\n",
    "    current_avg = round(data[attributes[i]].dropna().astype(int).mean())\n",
    "    data[attributes[i]] = data[attributes[i]].fillna(current_avg)\n",
    "data"
   ]
  },
  {
   "cell_type": "code",
   "execution_count": 10,
   "id": "7e8a3410",
   "metadata": {},
   "outputs": [
    {
     "data": {
      "text/plain": [
       "sex                1.008379\n",
       "length             0.523992\n",
       "diameter           0.407881\n",
       "height             0.139516\n",
       "whole_weight       0.828742\n",
       "shucked_weight     0.359367\n",
       "viscera_weight     0.180594\n",
       "shell_weight       0.238831\n",
       "predicted_age     11.433684\n",
       "dtype: float64"
      ]
     },
     "execution_count": 10,
     "metadata": {},
     "output_type": "execute_result"
    }
   ],
   "source": [
    "#Looking at the mean values for all the attributes in the data set\n",
    "data.mean()"
   ]
  },
  {
   "cell_type": "code",
   "execution_count": 11,
   "id": "36f5f85c",
   "metadata": {},
   "outputs": [
    {
     "data": {
      "text/plain": [
       "sex                1.0000\n",
       "length             0.5450\n",
       "diameter           0.4250\n",
       "height             0.1400\n",
       "whole_weight       0.7995\n",
       "shucked_weight     0.3360\n",
       "viscera_weight     0.1710\n",
       "shell_weight       0.2340\n",
       "predicted_age     10.5000\n",
       "dtype: float64"
      ]
     },
     "execution_count": 11,
     "metadata": {},
     "output_type": "execute_result"
    }
   ],
   "source": [
    "#Looking at the median values for all the attributes in the data set\n",
    "data.median()"
   ]
  },
  {
   "cell_type": "code",
   "execution_count": 12,
   "id": "7f09b7e4",
   "metadata": {},
   "outputs": [
    {
     "data": {
      "text/plain": [
       "sex               0.796410\n",
       "length            0.120093\n",
       "diameter          0.099240\n",
       "height            0.041827\n",
       "whole_weight      0.490389\n",
       "shucked_weight    0.221963\n",
       "viscera_weight    0.109614\n",
       "shell_weight      0.139203\n",
       "predicted_age     3.224169\n",
       "dtype: float64"
      ]
     },
     "execution_count": 12,
     "metadata": {},
     "output_type": "execute_result"
    }
   ],
   "source": [
    "#Looking at the standard deviation for all the attributes in the data set\n",
    "data.std()"
   ]
  },
  {
   "cell_type": "code",
   "execution_count": 13,
   "id": "e91411cc",
   "metadata": {},
   "outputs": [
    {
     "name": "stdout",
     "output_type": "stream",
     "text": [
      "\u001b[1mFirst Quartile Values\u001b[0m\n",
      " sex               0.0000\n",
      "length            0.4500\n",
      "diameter          0.3500\n",
      "height            0.1150\n",
      "whole_weight      0.4415\n",
      "shucked_weight    0.1860\n",
      "viscera_weight    0.0935\n",
      "shell_weight      0.1300\n",
      "predicted_age     9.5000\n",
      "Name: 0.25, dtype: float64\n",
      "\n",
      "\u001b[1mThird Quartile Values\u001b[0m\n",
      " sex                2.000\n",
      "length             0.615\n",
      "diameter           0.480\n",
      "height             0.165\n",
      "whole_weight       1.153\n",
      "shucked_weight     0.502\n",
      "viscera_weight     0.253\n",
      "shell_weight       0.329\n",
      "predicted_age     12.500\n",
      "Name: 0.75, dtype: float64\n"
     ]
    }
   ],
   "source": [
    "# STEP 4\n",
    "\n",
    "#Computing first quartile and third quartile of all attributes in the data set\n",
    "f.write(\"\\nQUARTILES\\n\")\n",
    "\n",
    "f.write(\"\\First Quartile Values\\n\" + data.quantile(0.25).to_string())\n",
    "f.write(\"\\nThird Quartile Values\\n\" + data.quantile(0.75).to_string())\n",
    "\n",
    "print(\"\\033[1mFirst Quartile Values\\033[0m\\n\", data.quantile(0.25))\n",
    "print(\"\\n\\033[1mThird Quartile Values\\033[0m\\n\", data.quantile(0.75))"
   ]
  },
  {
   "cell_type": "code",
   "execution_count": 14,
   "id": "d9a786d9",
   "metadata": {},
   "outputs": [
    {
     "name": "stdout",
     "output_type": "stream",
     "text": [
      "\u001b[1mRange:\u001b[0m\n",
      " sex                2.0000\n",
      "length             0.7400\n",
      "diameter           0.5950\n",
      "height             1.1300\n",
      "whole_weight       2.8235\n",
      "shucked_weight     1.4870\n",
      "viscera_weight     0.7595\n",
      "shell_weight       1.0035\n",
      "predicted_age     28.0000\n",
      "dtype: float64\n",
      "\n",
      "\u001b[1mVariance:\u001b[0m\n",
      " sex                0.634269\n",
      "length             0.014422\n",
      "diameter           0.009849\n",
      "height             0.001750\n",
      "whole_weight       0.240481\n",
      "shucked_weight     0.049268\n",
      "viscera_weight     0.012015\n",
      "shell_weight       0.019377\n",
      "predicted_age     10.395266\n",
      "dtype: float64\n"
     ]
    }
   ],
   "source": [
    "# STEP 5\n",
    "f.write(\"\\nRANGE AND VARIANCE\\n\")\n",
    "f.write(\"\\nRange:\\n\" + (data.max() - data.min()).to_string())\n",
    "f.write(\"\\nVariance:\\n\" + data.var().to_string())\n",
    "\n",
    "print(\"\\033[1mRange:\\033[0m\\n\", (data.max() - data.min()))\n",
    "print(\"\\n\\033[1mVariance:\\033[0m\\n\", data.var())"
   ]
  },
  {
   "cell_type": "code",
   "execution_count": 15,
   "id": "2a726364",
   "metadata": {},
   "outputs": [
    {
     "name": "stdout",
     "output_type": "stream",
     "text": [
      "\n",
      "\u001b[1msex:\u001b[0m\n",
      "AAD:0.44327553885182075\n",
      "MAD:0.10616914053148202\n",
      "\n",
      "\u001b[1mlength:\u001b[0m\n",
      "AAD:0.44327553885182075\n",
      "MAD:0.10616914053148202\n",
      "\n",
      "\u001b[1mdiameter:\u001b[0m\n",
      "AAD:0.44327553885182075\n",
      "MAD:0.10616914053148202\n",
      "\n",
      "\u001b[1mheight:\u001b[0m\n",
      "AAD:0.44327553885182075\n",
      "MAD:0.10616914053148202\n",
      "\n",
      "\u001b[1mwhole_weight:\u001b[0m\n",
      "AAD:0.44327553885182075\n",
      "MAD:0.10616914053148202\n",
      "\n",
      "\u001b[1mshucked_weight:\u001b[0m\n",
      "AAD:0.44327553885182075\n",
      "MAD:0.10616914053148202\n",
      "\n",
      "\u001b[1mviscera_weight:\u001b[0m\n",
      "AAD:0.44327553885182075\n",
      "MAD:0.10616914053148202\n",
      "\n",
      "\u001b[1mshell_weight:\u001b[0m\n",
      "AAD:0.44327553885182075\n",
      "MAD:0.10616914053148202\n",
      "\n",
      "\u001b[1mnum_of_rings:\u001b[0m\n",
      "AAD:0.44327553885182075\n",
      "MAD:0.10616914053148202\n"
     ]
    }
   ],
   "source": [
    "#STEP 6\n",
    "\n",
    "#Mean Absolute Deviation(MAD) is the median distance between each data value and the mean for the attribute\n",
    "#Average Absolute Deviation(AAD) is the average of distances between each data value and the mean for the attribute\n",
    "s = []\n",
    "s.append(abs(data-data.mean()))\n",
    "f.write(\"\\nAAD & MAD\\n\")\n",
    "for i in range(len(attributes)):\n",
    "    f.write(f\"\\n{attributes[i]}:\")\n",
    "    f.write(f\"\\nAAD: {np.mean(s)}\")\n",
    "    f.write(f\"MAD: {np.median(s)}\\n\")\n",
    "    \n",
    "    print(f\"\\n\\033[1m{attributes[i]}:\\033[0m\")\n",
    "    print(f\"AAD:{np.mean(s)}\")\n",
    "    print(f\"MAD:{np.median(s)}\")"
   ]
  },
  {
   "cell_type": "code",
   "execution_count": 16,
   "id": "8f28f72c",
   "metadata": {},
   "outputs": [
    {
     "data": {
      "image/png": "[encoded data removed]",
      "text/plain": [
       "<Figure size 1440x1080 with 9 Axes>"
      ]
     },
     "metadata": {
      "needs_background": "light"
     },
     "output_type": "display_data"
    }
   ],
   "source": [
    "#STEP 7\n",
    "#VISUALIAZATION\n",
    "# To see a realistic distribution of the attributes, we plot histogram for all the attributes and observe the \n",
    "# diagrams\n",
    "data.hist(bins=50, figsize=(20,15))\n",
    "plt.show()"
   ]
  },
  {
   "cell_type": "code",
   "execution_count": 17,
   "id": "7f39f36b",
   "metadata": {},
   "outputs": [
    {
     "name": "stderr",
     "output_type": "stream",
     "text": [
      "/Users/sushantkhanal/opt/anaconda3/lib/python3.9/site-packages/seaborn/_decorators.py:36: FutureWarning: Pass the following variable as a keyword arg: x. From version 0.12, the only valid positional argument will be `data`, and passing other arguments without an explicit keyword will result in an error or misinterpretation.\n",
      "  warnings.warn(\n"
     ]
    },
    {
     "data": {
      "image/png": "[encoded data removed]",
      "text/plain": [
       "<Figure size 720x720 with 2 Axes>"
      ]
     },
     "metadata": {
      "needs_background": "light"
     },
     "output_type": "display_data"
    }
   ],
   "source": [
    "#we make boxplots for predicted age to see the distribution of data in quariles and averages, and also to look for outliers\n",
    "\n",
    "rows = 2\n",
    "cols = 2\n",
    "i = 0\n",
    "\n",
    "plt.figure(figsize=(10, 10))\n",
    "\n",
    "i += 1\n",
    "plt.subplot(rows, cols, i)\n",
    "plt.xticks(range(0, 31, 4))\n",
    "plt.xlim(0, 30)\n",
    "_ = sns.histplot(data['predicted_age'], bins=range(0, 30, 2))\n",
    "\n",
    "i += 1\n",
    "plt.subplot(rows, cols, i)\n",
    "plt.xticks(range(0, 31, 4))\n",
    "plt.xlim(0, 30)\n",
    "_ = sns.boxplot(data['predicted_age'])\n",
    "plt.savefig('output_predicted_age_hist_box.pdf')\n"
   ]
  },
  {
   "cell_type": "code",
   "execution_count": 18,
   "id": "a25610b8",
   "metadata": {},
   "outputs": [
    {
     "name": "stderr",
     "output_type": "stream",
     "text": [
      "/Users/sushantkhanal/opt/anaconda3/lib/python3.9/site-packages/seaborn/_decorators.py:36: FutureWarning: Pass the following variable as a keyword arg: x. From version 0.12, the only valid positional argument will be `data`, and passing other arguments without an explicit keyword will result in an error or misinterpretation.\n",
      "  warnings.warn(\n",
      "/Users/sushantkhanal/opt/anaconda3/lib/python3.9/site-packages/seaborn/_decorators.py:36: FutureWarning: Pass the following variable as a keyword arg: x. From version 0.12, the only valid positional argument will be `data`, and passing other arguments without an explicit keyword will result in an error or misinterpretation.\n",
      "  warnings.warn(\n",
      "/Users/sushantkhanal/opt/anaconda3/lib/python3.9/site-packages/seaborn/_decorators.py:36: FutureWarning: Pass the following variable as a keyword arg: x. From version 0.12, the only valid positional argument will be `data`, and passing other arguments without an explicit keyword will result in an error or misinterpretation.\n",
      "  warnings.warn(\n"
     ]
    },
    {
     "data": {
      "image/png": "[encoded data removed]",
      "text/plain": [
       "<Figure size 1440x1440 with 6 Axes>"
      ]
     },
     "metadata": {
      "needs_background": "light"
     },
     "output_type": "display_data"
    }
   ],
   "source": [
    "plt.figure(figsize=(20, 20))\n",
    "\n",
    "rows = 3\n",
    "cols = 3\n",
    "i = 0\n",
    "\n",
    "i += 1\n",
    "plt.subplot(rows, cols, i)\n",
    "_ = sns.histplot(data['length'])\n",
    "    \n",
    "i += 1\n",
    "plt.subplot(rows, cols, i)\n",
    "sns.histplot(data['diameter'])\n",
    "\n",
    "i += 1\n",
    "plt.subplot(rows, cols, i)\n",
    "sns.histplot(data['height'])\n",
    "\n",
    "\n",
    "i += 1\n",
    "plt.subplot(rows, cols, i)\n",
    "sns.boxplot(data['length'])\n",
    "\n",
    "i += 1\n",
    "plt.subplot(rows, cols, i)\n",
    "sns.boxplot(data['diameter'])\n",
    "\n",
    "i += 1\n",
    "plt.subplot(rows, cols, i)\n",
    "sns.boxplot(data['height'])\n",
    "\n",
    "plt.savefig('output_lengthdiaheight_hist_box.pdf')\n"
   ]
  },
  {
   "cell_type": "code",
   "execution_count": 19,
   "id": "a0fb6b41",
   "metadata": {},
   "outputs": [
    {
     "name": "stderr",
     "output_type": "stream",
     "text": [
      "/Users/sushantkhanal/opt/anaconda3/lib/python3.9/site-packages/seaborn/_decorators.py:36: FutureWarning: Pass the following variable as a keyword arg: x. From version 0.12, the only valid positional argument will be `data`, and passing other arguments without an explicit keyword will result in an error or misinterpretation.\n",
      "  warnings.warn(\n",
      "/Users/sushantkhanal/opt/anaconda3/lib/python3.9/site-packages/seaborn/_decorators.py:36: FutureWarning: Pass the following variable as a keyword arg: x. From version 0.12, the only valid positional argument will be `data`, and passing other arguments without an explicit keyword will result in an error or misinterpretation.\n",
      "  warnings.warn(\n",
      "/Users/sushantkhanal/opt/anaconda3/lib/python3.9/site-packages/seaborn/_decorators.py:36: FutureWarning: Pass the following variable as a keyword arg: x. From version 0.12, the only valid positional argument will be `data`, and passing other arguments without an explicit keyword will result in an error or misinterpretation.\n",
      "  warnings.warn(\n",
      "/Users/sushantkhanal/opt/anaconda3/lib/python3.9/site-packages/seaborn/_decorators.py:36: FutureWarning: Pass the following variable as a keyword arg: x. From version 0.12, the only valid positional argument will be `data`, and passing other arguments without an explicit keyword will result in an error or misinterpretation.\n",
      "  warnings.warn(\n"
     ]
    },
    {
     "data": {
      "image/png": "[encoded data removed]",
      "text/plain": [
       "<Figure size 1440x1440 with 8 Axes>"
      ]
     },
     "metadata": {
      "needs_background": "light"
     },
     "output_type": "display_data"
    }
   ],
   "source": [
    "plt.figure(figsize=(20, 20))\n",
    "\n",
    "rows = 3\n",
    "cols = 4\n",
    "i = 0\n",
    "\n",
    "i += 1\n",
    "plt.subplot(rows, cols, i)\n",
    "sns.histplot(data['whole_weight'])\n",
    "    \n",
    "i += 1\n",
    "plt.subplot(rows, cols, i)\n",
    "sns.histplot(data['shucked_weight'])\n",
    "\n",
    "i += 1\n",
    "plt.subplot(rows, cols, i)\n",
    "sns.histplot(data['viscera_weight'])\n",
    "\n",
    "i += 1\n",
    "plt.subplot(rows, cols, i)\n",
    "sns.histplot(data['shell_weight'])\n",
    "\n",
    "i += 1\n",
    "plt.subplot(rows, cols, i)\n",
    "sns.boxplot(data['whole_weight'])\n",
    "\n",
    "i += 1\n",
    "plt.subplot(rows, cols, i)\n",
    "sns.boxplot(data['shucked_weight'])\n",
    "\n",
    "i += 1\n",
    "plt.subplot(rows, cols, i)\n",
    "sns.boxplot(data['viscera_weight'])\n",
    "\n",
    "i += 1\n",
    "plt.subplot(rows, cols, i)\n",
    "sns.boxplot(data['shell_weight'])\n",
    "\n",
    "plt.savefig('output_weights_hist_box.pdf')"
   ]
  },
  {
   "cell_type": "markdown",
   "id": "b9496cc5",
   "metadata": {},
   "source": [
    "#Interpretations\n",
    "We can see that the bell curve is larger for the weight attributes. Also, we can see the outliers in the boxplot. "
   ]
  },
  {
   "cell_type": "code",
   "execution_count": 20,
   "id": "f0f471c2",
   "metadata": {},
   "outputs": [
    {
     "name": "stderr",
     "output_type": "stream",
     "text": [
      "/Users/sushantkhanal/opt/anaconda3/lib/python3.9/site-packages/seaborn/_decorators.py:36: FutureWarning: Pass the following variable as a keyword arg: x. From version 0.12, the only valid positional argument will be `data`, and passing other arguments without an explicit keyword will result in an error or misinterpretation.\n",
      "  warnings.warn(\n"
     ]
    },
    {
     "data": {
      "image/png": "[encoded data removed]",
      "text/plain": [
       "<Figure size 720x720 with 1 Axes>"
      ]
     },
     "metadata": {
      "needs_background": "light"
     },
     "output_type": "display_data"
    }
   ],
   "source": [
    "plt.figure(figsize=(10,10))\n",
    "sns.countplot(data.sex)\n",
    "plt.savefig('output_sex_hist.pdf')\n"
   ]
  },
  {
   "cell_type": "markdown",
   "id": "e85b2ca1",
   "metadata": {},
   "source": [
    "#Interpretations\n",
    "#In the above barplot, 0 represents females, 1 represents males and 2 represents infants, we can see that the population is\n",
    "#relatively balanced, with males being slightly higher in number"
   ]
  },
  {
   "cell_type": "code",
   "execution_count": 21,
   "id": "a6db8268",
   "metadata": {},
   "outputs": [
    {
     "data": {
      "image/png": "[encoded data removed]",
      "text/plain": [
       "<Figure size 720x720 with 2 Axes>"
      ]
     },
     "metadata": {
      "needs_background": "light"
     },
     "output_type": "display_data"
    }
   ],
   "source": [
    "plt.figure(figsize=(10, 10))\n",
    "corr = data.corr()\n",
    "sns.heatmap(corr, annot=True)\n",
    "plt.savefig('output_heatmap_matrix.pdf')"
   ]
  },
  {
   "cell_type": "markdown",
   "id": "eb05fbc7",
   "metadata": {},
   "source": [
    "#Interpretation\n",
    "#We can visualize the correlation matrix from the above heat map.\n",
    "#We can see that shell_weight contributes the most and shucked_weight contributes the least\n",
    "#We can see the other attributes with high correlation are height, length, diameter"
   ]
  },
  {
   "cell_type": "code",
   "execution_count": 22,
   "id": "b8051513",
   "metadata": {},
   "outputs": [
    {
     "data": {
      "text/plain": [
       "<Figure size 1440x360 with 0 Axes>"
      ]
     },
     "metadata": {},
     "output_type": "display_data"
    },
    {
     "data": {
      "image/png": "[encoded data removed]",
      "text/plain": [
       "<Figure size 402.375x360 with 1 Axes>"
      ]
     },
     "metadata": {
      "needs_background": "light"
     },
     "output_type": "display_data"
    }
   ],
   "source": [
    "#scatter plot\n",
    "plt.figure(figsize=(20, 5))\n",
    "\n",
    "sns.lmplot(data=data, x='predicted_age', y='shell_weight', hue='sex', fit_reg=True)\n",
    "\n",
    "plt.savefig('output_attr_scatter_plot_shell_weight.pdf')\n",
    "f.close()"
   ]
  },
  {
   "cell_type": "markdown",
   "id": "da312941",
   "metadata": {},
   "source": [
    "#Interpretations\n",
    "#looking at the correlation and the scatter plot, we have found that age can be predicted with reasonable accuracy.\n",
    "#the most significant varriables are shell_weight, length, diameter, then height."
   ]
  }
 ],
 "metadata": {
  "kernelspec": {
   "display_name": "Python 3 (ipykernel)",
   "language": "python",
   "name": "python3"
  },
  "language_info": {
   "codemirror_mode": {
    "name": "ipython",
    "version": 3
   },
   "file_extension": ".py",
   "mimetype": "text/x-python",
   "name": "python",
   "nbconvert_exporter": "python",
   "pygments_lexer": "ipython3",
   "version": "3.9.12"
  }
 },
 "nbformat": 4,
 "nbformat_minor": 5
}
